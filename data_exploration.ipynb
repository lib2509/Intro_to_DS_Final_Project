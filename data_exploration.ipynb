{
 "cells": [
  {
   "cell_type": "markdown",
   "id": "9bf6fd03-0333-4eea-94fb-30c3768ac5ae",
   "metadata": {},
   "source": [
    "# Data Exploration"
   ]
  },
  {
   "cell_type": "markdown",
   "id": "21939120-ff2d-4a95-b09c-4c973be44043",
   "metadata": {},
   "source": [
    "## Import"
   ]
  },
  {
   "cell_type": "code",
   "execution_count": 1,
   "id": "8e58ef51-2d3b-47d2-be00-6505ceddf8f8",
   "metadata": {},
   "outputs": [],
   "source": [
    "import pandas as pd # For handling and analyzing tabular data\n",
    "\n",
    "# For visualization\n",
    "import seaborn as sns\n",
    "import matplotlib.pyplot as plt\n",
    "\n",
    "import re # For validating and manipulating text\n",
    "import numpy as np # For numeric calculation"
   ]
  },
  {
   "cell_type": "markdown",
   "id": "38b63edb-29cc-432e-9d2f-65f3277f72c5",
   "metadata": {},
   "source": [
    "## Read data from CSV file"
   ]
  },
  {
   "cell_type": "code",
   "execution_count": 2,
   "id": "5a2717d1-6510-44fc-8fdc-36924d3c7f24",
   "metadata": {},
   "outputs": [
    {
     "data": {
      "text/html": [
       "<div>\n",
       "<style scoped>\n",
       "    .dataframe tbody tr th:only-of-type {\n",
       "        vertical-align: middle;\n",
       "    }\n",
       "\n",
       "    .dataframe tbody tr th {\n",
       "        vertical-align: top;\n",
       "    }\n",
       "\n",
       "    .dataframe thead th {\n",
       "        text-align: right;\n",
       "    }\n",
       "</style>\n",
       "<table border=\"1\" class=\"dataframe\">\n",
       "  <thead>\n",
       "    <tr style=\"text-align: right;\">\n",
       "      <th></th>\n",
       "      <th>ID</th>\n",
       "      <th>Title</th>\n",
       "      <th>Alternative Title (en)</th>\n",
       "      <th>Media Type</th>\n",
       "      <th>Status</th>\n",
       "      <th>Premiered Season</th>\n",
       "      <th>Genres</th>\n",
       "      <th>User Score</th>\n",
       "      <th>Number of Ratings</th>\n",
       "      <th>Number of Members</th>\n",
       "      <th>Studios</th>\n",
       "      <th>Rating</th>\n",
       "    </tr>\n",
       "  </thead>\n",
       "  <tbody>\n",
       "    <tr>\n",
       "      <th>0</th>\n",
       "      <td>3907</td>\n",
       "      <td>Ginga Sengoku Gunyuuden Rai</td>\n",
       "      <td>Galaxy Warring State Chronicle Rai</td>\n",
       "      <td>tv</td>\n",
       "      <td>finished_airing</td>\n",
       "      <td>Spring 1994</td>\n",
       "      <td>Adventure, Romance, Sci-Fi, Shounen, Space</td>\n",
       "      <td>7.89</td>\n",
       "      <td>5590</td>\n",
       "      <td>16613</td>\n",
       "      <td>E&amp;G Films</td>\n",
       "      <td>pg_13</td>\n",
       "    </tr>\n",
       "    <tr>\n",
       "      <th>1</th>\n",
       "      <td>1573</td>\n",
       "      <td>Kishin Douji Zenki</td>\n",
       "      <td>Zenki</td>\n",
       "      <td>tv</td>\n",
       "      <td>finished_airing</td>\n",
       "      <td>Winter 1995</td>\n",
       "      <td>Action, Comedy, Drama, Fantasy, Horror, Mythol...</td>\n",
       "      <td>6.97</td>\n",
       "      <td>5956</td>\n",
       "      <td>15094</td>\n",
       "      <td>Studio Deen</td>\n",
       "      <td>pg_13</td>\n",
       "    </tr>\n",
       "    <tr>\n",
       "      <th>2</th>\n",
       "      <td>520</td>\n",
       "      <td>Marmalade Boy Movie</td>\n",
       "      <td>NaN</td>\n",
       "      <td>movie</td>\n",
       "      <td>finished_airing</td>\n",
       "      <td>Winter 1995</td>\n",
       "      <td>Romance, Shoujo</td>\n",
       "      <td>7.29</td>\n",
       "      <td>5082</td>\n",
       "      <td>11647</td>\n",
       "      <td>Toei Animation</td>\n",
       "      <td>pg_13</td>\n",
       "    </tr>\n",
       "    <tr>\n",
       "      <th>3</th>\n",
       "      <td>103</td>\n",
       "      <td>Akazukin Chacha</td>\n",
       "      <td>Red Riding Hood Chacha</td>\n",
       "      <td>tv</td>\n",
       "      <td>finished_airing</td>\n",
       "      <td>Winter 1994</td>\n",
       "      <td>Adventure, Comedy, Fantasy, Mahou Shoujo, Roma...</td>\n",
       "      <td>7.41</td>\n",
       "      <td>6075</td>\n",
       "      <td>16889</td>\n",
       "      <td>Gallop</td>\n",
       "      <td>g</td>\n",
       "    </tr>\n",
       "    <tr>\n",
       "      <th>4</th>\n",
       "      <td>813</td>\n",
       "      <td>Dragon Ball Z</td>\n",
       "      <td>Dragon Ball Z</td>\n",
       "      <td>tv</td>\n",
       "      <td>finished_airing</td>\n",
       "      <td>Spring 1989</td>\n",
       "      <td>Action, Adventure, Comedy, Fantasy, Martial Ar...</td>\n",
       "      <td>8.19</td>\n",
       "      <td>863786</td>\n",
       "      <td>1258233</td>\n",
       "      <td>Toei Animation</td>\n",
       "      <td>pg_13</td>\n",
       "    </tr>\n",
       "    <tr>\n",
       "      <th>...</th>\n",
       "      <td>...</td>\n",
       "      <td>...</td>\n",
       "      <td>...</td>\n",
       "      <td>...</td>\n",
       "      <td>...</td>\n",
       "      <td>...</td>\n",
       "      <td>...</td>\n",
       "      <td>...</td>\n",
       "      <td>...</td>\n",
       "      <td>...</td>\n",
       "      <td>...</td>\n",
       "      <td>...</td>\n",
       "    </tr>\n",
       "    <tr>\n",
       "      <th>4075</th>\n",
       "      <td>57102</td>\n",
       "      <td>Houkago Shounen Hanako-kun Part 2</td>\n",
       "      <td>After-School Hanako-kun Part 2</td>\n",
       "      <td>tv</td>\n",
       "      <td>finished_airing</td>\n",
       "      <td>Fall 2024</td>\n",
       "      <td>Comedy, School, Supernatural</td>\n",
       "      <td>7.02</td>\n",
       "      <td>5245</td>\n",
       "      <td>29133</td>\n",
       "      <td>Lerche</td>\n",
       "      <td>pg_13</td>\n",
       "    </tr>\n",
       "    <tr>\n",
       "      <th>4076</th>\n",
       "      <td>53876</td>\n",
       "      <td>Pokemon (2023)</td>\n",
       "      <td>Pokémon Horizons: The Series</td>\n",
       "      <td>tv</td>\n",
       "      <td>currently_airing</td>\n",
       "      <td>Spring 2023</td>\n",
       "      <td>Action, Adventure, Comedy, Fantasy, Kids</td>\n",
       "      <td>7.40</td>\n",
       "      <td>7542</td>\n",
       "      <td>33947</td>\n",
       "      <td>OLM</td>\n",
       "      <td>pg</td>\n",
       "    </tr>\n",
       "    <tr>\n",
       "      <th>4077</th>\n",
       "      <td>54726</td>\n",
       "      <td>Tsuma, Shougakusei ni Naru.</td>\n",
       "      <td>TsumaSho</td>\n",
       "      <td>tv</td>\n",
       "      <td>currently_airing</td>\n",
       "      <td>Fall 2024</td>\n",
       "      <td>Comedy, Reincarnation, Romance, Seinen</td>\n",
       "      <td>7.23</td>\n",
       "      <td>5155</td>\n",
       "      <td>41356</td>\n",
       "      <td>Studio Signpost</td>\n",
       "      <td>pg_13</td>\n",
       "    </tr>\n",
       "    <tr>\n",
       "      <th>4078</th>\n",
       "      <td>53033</td>\n",
       "      <td>Mecha-ude (TV)</td>\n",
       "      <td>Mecha-Ude: Mechanical Arms</td>\n",
       "      <td>tv</td>\n",
       "      <td>currently_airing</td>\n",
       "      <td>Fall 2024</td>\n",
       "      <td>Action, Sci-Fi</td>\n",
       "      <td>7.07</td>\n",
       "      <td>5015</td>\n",
       "      <td>39806</td>\n",
       "      <td>TriF Studio</td>\n",
       "      <td>pg_13</td>\n",
       "    </tr>\n",
       "    <tr>\n",
       "      <th>4079</th>\n",
       "      <td>40333</td>\n",
       "      <td>Uzumaki</td>\n",
       "      <td>Uzumaki: Spiral into Horror</td>\n",
       "      <td>tv</td>\n",
       "      <td>finished_airing</td>\n",
       "      <td>Fall 2024</td>\n",
       "      <td>Avant Garde, Drama, Horror, Psychological, Sei...</td>\n",
       "      <td>5.95</td>\n",
       "      <td>47791</td>\n",
       "      <td>219801</td>\n",
       "      <td>Akatsuki, Fugaku</td>\n",
       "      <td>r</td>\n",
       "    </tr>\n",
       "  </tbody>\n",
       "</table>\n",
       "<p>4080 rows × 12 columns</p>\n",
       "</div>"
      ],
      "text/plain": [
       "         ID                              Title  \\\n",
       "0      3907        Ginga Sengoku Gunyuuden Rai   \n",
       "1      1573                 Kishin Douji Zenki   \n",
       "2       520                Marmalade Boy Movie   \n",
       "3       103                    Akazukin Chacha   \n",
       "4       813                      Dragon Ball Z   \n",
       "...     ...                                ...   \n",
       "4075  57102  Houkago Shounen Hanako-kun Part 2   \n",
       "4076  53876                     Pokemon (2023)   \n",
       "4077  54726        Tsuma, Shougakusei ni Naru.   \n",
       "4078  53033                     Mecha-ude (TV)   \n",
       "4079  40333                            Uzumaki   \n",
       "\n",
       "                  Alternative Title (en) Media Type            Status  \\\n",
       "0     Galaxy Warring State Chronicle Rai         tv   finished_airing   \n",
       "1                                  Zenki         tv   finished_airing   \n",
       "2                                    NaN      movie   finished_airing   \n",
       "3                 Red Riding Hood Chacha         tv   finished_airing   \n",
       "4                          Dragon Ball Z         tv   finished_airing   \n",
       "...                                  ...        ...               ...   \n",
       "4075      After-School Hanako-kun Part 2         tv   finished_airing   \n",
       "4076        Pokémon Horizons: The Series         tv  currently_airing   \n",
       "4077                            TsumaSho         tv  currently_airing   \n",
       "4078          Mecha-Ude: Mechanical Arms         tv  currently_airing   \n",
       "4079         Uzumaki: Spiral into Horror         tv   finished_airing   \n",
       "\n",
       "     Premiered Season                                             Genres  \\\n",
       "0         Spring 1994         Adventure, Romance, Sci-Fi, Shounen, Space   \n",
       "1         Winter 1995  Action, Comedy, Drama, Fantasy, Horror, Mythol...   \n",
       "2         Winter 1995                                    Romance, Shoujo   \n",
       "3         Winter 1994  Adventure, Comedy, Fantasy, Mahou Shoujo, Roma...   \n",
       "4         Spring 1989  Action, Adventure, Comedy, Fantasy, Martial Ar...   \n",
       "...               ...                                                ...   \n",
       "4075        Fall 2024                       Comedy, School, Supernatural   \n",
       "4076      Spring 2023           Action, Adventure, Comedy, Fantasy, Kids   \n",
       "4077        Fall 2024             Comedy, Reincarnation, Romance, Seinen   \n",
       "4078        Fall 2024                                     Action, Sci-Fi   \n",
       "4079        Fall 2024  Avant Garde, Drama, Horror, Psychological, Sei...   \n",
       "\n",
       "      User Score  Number of Ratings  Number of Members           Studios  \\\n",
       "0           7.89               5590              16613         E&G Films   \n",
       "1           6.97               5956              15094       Studio Deen   \n",
       "2           7.29               5082              11647    Toei Animation   \n",
       "3           7.41               6075              16889            Gallop   \n",
       "4           8.19             863786            1258233    Toei Animation   \n",
       "...          ...                ...                ...               ...   \n",
       "4075        7.02               5245              29133            Lerche   \n",
       "4076        7.40               7542              33947               OLM   \n",
       "4077        7.23               5155              41356   Studio Signpost   \n",
       "4078        7.07               5015              39806       TriF Studio   \n",
       "4079        5.95              47791             219801  Akatsuki, Fugaku   \n",
       "\n",
       "     Rating  \n",
       "0     pg_13  \n",
       "1     pg_13  \n",
       "2     pg_13  \n",
       "3         g  \n",
       "4     pg_13  \n",
       "...     ...  \n",
       "4075  pg_13  \n",
       "4076     pg  \n",
       "4077  pg_13  \n",
       "4078  pg_13  \n",
       "4079      r  \n",
       "\n",
       "[4080 rows x 12 columns]"
      ]
     },
     "execution_count": 2,
     "metadata": {},
     "output_type": "execute_result"
    }
   ],
   "source": [
    "version = '23112024'\n",
    "anime_data = pd.read_csv(f'./data/anime_data_{version}.csv')\n",
    "\n",
    "# Check dataset\n",
    "anime_data"
   ]
  },
  {
   "cell_type": "markdown",
   "id": "a143557b-4b79-4255-a78f-805faecca1d9",
   "metadata": {},
   "source": [
    "## Basic column exploration"
   ]
  },
  {
   "cell_type": "markdown",
   "id": "d918aa27-8bb9-41c4-b9af-06245588f3f1",
   "metadata": {},
   "source": [
    "### Column names"
   ]
  },
  {
   "cell_type": "code",
   "execution_count": 3,
   "id": "28752ee0-76f0-485e-8cef-cbd62dc3b361",
   "metadata": {},
   "outputs": [
    {
     "data": {
      "text/plain": [
       "Index(['ID', 'Title', 'Alternative Title (en)', 'Media Type', 'Status',\n",
       "       'Premiered Season', 'Genres', 'User Score', 'Number of Ratings',\n",
       "       'Number of Members', 'Studios', 'Rating'],\n",
       "      dtype='object')"
      ]
     },
     "execution_count": 3,
     "metadata": {},
     "output_type": "execute_result"
    }
   ],
   "source": [
    "column_names = anime_data.columns # Get column names\n",
    "column_names"
   ]
  },
  {
   "cell_type": "markdown",
   "id": "bd5a526f-2df2-4642-8fcd-ddc4d0f18f62",
   "metadata": {},
   "source": [
    "### Column meanings\n",
    "- **ID**: A unique identifier for each anime entry in the dataset. It helps to distinguish individual anime records.\n",
    "- **Title**: The main title of the anime (usually in the original language or its official English title).\n",
    "- **Alternative Title (en)**: The alternative English title for the anime, if available. It could be a localized or translated title.\n",
    "- **Media Type**: The format of the anime, e.g., ```tv``` for television series or ```movie``` for feature films.\n",
    "- **Status**: The airing or release status of the anime (```finished_airing``` or ```currently_airing```).\n",
    "- **Premiered Season**: Indicates the season and year when the anime premiered, e.g., ```Winter 2024```, ```Spring 1995```.\n",
    "- **Genres**: A list of genres describing the anime’s theme or content.\n",
    "- **User Score**: The average score given by users to the anime, typically on a scale of 0 to 10, often with two decimal places. It reflects how well the anime is rated.\n",
    "- **Number of Ratings**: The number of user ratings the anime has received. This indicates how many people have participated in scoring the anime.\n",
    "- **Number of Members**: The total number of users showing interest in the anime. It provides a measure of the anime’s popularity.\n",
    "- **Studios**: The production studios that created the anime. Multiple studios may collaborate on a single anime, and their names are listed here.\n",
    "- **Rating**: The content rating of the anime based on the MPAA system (e.g., G, PG-13, R, etc.). This indicates the target audience and age restrictions, if any."
   ]
  },
  {
   "cell_type": "markdown",
   "id": "174c6367-7938-49d7-9e01-0b27ce17af98",
   "metadata": {},
   "source": [
    "### Data type of columns"
   ]
  },
  {
   "cell_type": "code",
   "execution_count": 4,
   "id": "ea3a4d7d-f084-4e51-acd3-42eb1435fdac",
   "metadata": {},
   "outputs": [
    {
     "data": {
      "text/plain": [
       "ID                          int64\n",
       "Title                      object\n",
       "Alternative Title (en)     object\n",
       "Media Type                 object\n",
       "Status                     object\n",
       "Premiered Season           object\n",
       "Genres                     object\n",
       "User Score                float64\n",
       "Number of Ratings           int64\n",
       "Number of Members           int64\n",
       "Studios                    object\n",
       "Rating                     object\n",
       "dtype: object"
      ]
     },
     "execution_count": 4,
     "metadata": {},
     "output_type": "execute_result"
    }
   ],
   "source": [
    "column_types = anime_data.dtypes # Get data type of columns\n",
    "column_types"
   ]
  },
  {
   "cell_type": "markdown",
   "id": "e4c76d0a-617c-41d0-89c5-febb67727b2f",
   "metadata": {},
   "source": [
    "### Comments\n",
    "-"
   ]
  },
  {
   "cell_type": "markdown",
   "id": "59ef5017-3410-4e1c-97ab-3bcc5a9a5b8f",
   "metadata": {},
   "source": [
    "## Preprocessing"
   ]
  },
  {
   "cell_type": "markdown",
   "id": "9b3c288b-9fc0-4eb8-81c5-5310f108de77",
   "metadata": {},
   "source": [
    "### Check for missing items\n",
    "- **Purpose**:"
   ]
  },
  {
   "cell_type": "code",
   "execution_count": 5,
   "id": "c7da35ab-650c-4def-b19a-7fdfdb4d8516",
   "metadata": {},
   "outputs": [
    {
     "name": "stdout",
     "output_type": "stream",
     "text": [
      "Missing values per column:\n",
      "ID                          0\n",
      "Title                       0\n",
      "Alternative Title (en)    613\n",
      "Media Type                  0\n",
      "Status                      0\n",
      "Premiered Season            0\n",
      "Genres                      0\n",
      "User Score                  0\n",
      "Number of Ratings           0\n",
      "Number of Members           0\n",
      "Studios                     5\n",
      "Rating                      0\n",
      "dtype: int64\n"
     ]
    }
   ],
   "source": [
    "missing_values = anime_data.isnull().sum() # Check for null ('N/A', NaN) and empty\n",
    "\n",
    "print(\"Missing values per column:\")\n",
    "print(missing_values)"
   ]
  },
  {
   "cell_type": "markdown",
   "id": "4ffcdceb-2349-4022-8cb1-0ba42c5bf9bb",
   "metadata": {},
   "source": [
    "#### Identify columns with missing items:\n",
    "\r\n",
    "\r\n"
   ]
  },
  {
   "cell_type": "code",
   "execution_count": 6,
   "id": "1b39c467-0bb5-4535-b072-05195a80fb08",
   "metadata": {},
   "outputs": [
    {
     "data": {
      "text/plain": [
       "Index(['Alternative Title (en)', 'Studios'], dtype='object')"
      ]
     },
     "execution_count": 6,
     "metadata": {},
     "output_type": "execute_result"
    }
   ],
   "source": [
    "columns_with_missing = anime_data.columns[anime_data.isnull().any()] # Extract columns with missing values\n",
    "columns_with_missing"
   ]
  },
  {
   "cell_type": "markdown",
   "id": "a8af22a9-648b-4519-8dcf-50a3be6034ae",
   "metadata": {},
   "source": [
    "#### Check missing items by column"
   ]
  },
  {
   "cell_type": "code",
   "execution_count": 7,
   "id": "ee4a2b69-cbf9-480c-b997-9c9850a7c233",
   "metadata": {},
   "outputs": [],
   "source": [
    "def check_missing_for_column(column):\n",
    "    rows_with_missing = anime_data[anime_data[column].isnull()]\n",
    "\n",
    "    # Extract rows with missing data in a specific column\n",
    "    result = rows_with_missing[['ID', 'Title', column]]\n",
    "\n",
    "    print(f\"Rows with missing values in column: {column}\")\n",
    "    print(result)"
   ]
  },
  {
   "cell_type": "markdown",
   "id": "19a7b94c-dd19-4932-a308-1b04376fd52e",
   "metadata": {},
   "source": [
    "##### Column 'Alternative Title (en)'\n",
    "- Extract rows with missing items:"
   ]
  },
  {
   "cell_type": "code",
   "execution_count": 8,
   "id": "eb4ddc94-2711-43fd-877a-d76585f02684",
   "metadata": {},
   "outputs": [
    {
     "name": "stdout",
     "output_type": "stream",
     "text": [
      "Rows with missing values in column: Alternative Title (en)\n",
      "         ID                             Title Alternative Title (en)\n",
      "2       520               Marmalade Boy Movie                    NaN\n",
      "15     1397                         Macross 7                    NaN\n",
      "16     1674                 Captain Tsubasa J                    NaN\n",
      "26     1674                 Captain Tsubasa J                    NaN\n",
      "34     1397                         Macross 7                    NaN\n",
      "...     ...                               ...                    ...\n",
      "3980   8687                   Doraemon (2005)                    NaN\n",
      "4005  54829  Urusei Yatsura (2022) 2nd Season                    NaN\n",
      "4007  55102                    Girls Band Cry                    NaN\n",
      "4042   8687                   Doraemon (2005)                    NaN\n",
      "4048   8687                   Doraemon (2005)                    NaN\n",
      "\n",
      "[613 rows x 3 columns]\n"
     ]
    }
   ],
   "source": [
    "check_missing_for_column('Alternative Title (en)') # Extract rows with missing values in column 'Alternative Title (en)'"
   ]
  },
  {
   "cell_type": "markdown",
   "id": "ef1e0206-195b-4912-ba4d-c13337f69bb2",
   "metadata": {},
   "source": [
    "$\\rightarrow$ **Solution**: Fill in 'None' for the missing values.\r\n",
    "\r\n"
   ]
  },
  {
   "cell_type": "code",
   "execution_count": 9,
   "id": "e7e87a8c-0db3-4514-9ca1-16857fbae07f",
   "metadata": {},
   "outputs": [],
   "source": [
    "anime_data['Alternative Title (en)'] = anime_data['Alternative Title (en)'].fillna('None') # Fill in 'None' for the missing values"
   ]
  },
  {
   "cell_type": "markdown",
   "id": "d06b0b39-0539-4ef8-a270-70a85ce3a118",
   "metadata": {},
   "source": [
    "- Re-checking:"
   ]
  },
  {
   "cell_type": "code",
   "execution_count": 10,
   "id": "0828996d-1414-4abc-8b0e-20d0cf32c99c",
   "metadata": {},
   "outputs": [
    {
     "name": "stdout",
     "output_type": "stream",
     "text": [
      "Rows with missing values in column: Alternative Title (en)\n",
      "Empty DataFrame\n",
      "Columns: [ID, Title, Alternative Title (en)]\n",
      "Index: []\n"
     ]
    }
   ],
   "source": [
    "check_missing_for_column('Alternative Title (en)')"
   ]
  },
  {
   "cell_type": "markdown",
   "id": "9196b3da-6917-41e3-bd06-314d5403d319",
   "metadata": {},
   "source": [
    "##### Column 'Studios'\n",
    "- Extract rows with missing items:"
   ]
  },
  {
   "cell_type": "code",
   "execution_count": 11,
   "id": "2e66ee57-1358-4594-8290-b70898e08149",
   "metadata": {},
   "outputs": [
    {
     "name": "stdout",
     "output_type": "stream",
     "text": [
      "Rows with missing values in column: Studios\n",
      "        ID           Title Studios\n",
      "369   3914     1001 Nights     NaN\n",
      "989    548  Wonderful Days     NaN\n",
      "1623  6609      Pucca (TV)     NaN\n",
      "1631  6609      Pucca (TV)     NaN\n",
      "2054  3087       Cencoroll     NaN\n"
     ]
    }
   ],
   "source": [
    "check_missing_for_column('Studios') # Extract rows with missing values in column 'Studios'"
   ]
  },
  {
   "cell_type": "markdown",
   "id": "87f09652-b78b-43a0-84cb-d2c7b6101257",
   "metadata": {},
   "source": [
    "$\\rightarrow$ **Solution**: Fill in 'Unknown' for the missing values."
   ]
  },
  {
   "cell_type": "code",
   "execution_count": 12,
   "id": "c82973c5-0c9d-4d45-b90c-b03a025fa4ee",
   "metadata": {},
   "outputs": [],
   "source": [
    "anime_data['Studios'] = anime_data['Studios'].fillna('Unknown') # Fill in 'Unknown' for the missing values"
   ]
  },
  {
   "cell_type": "markdown",
   "id": "2d9d271d-2ed2-42df-aed8-3af6348fe9e8",
   "metadata": {},
   "source": [
    "- Re-checking:"
   ]
  },
  {
   "cell_type": "code",
   "execution_count": 13,
   "id": "dc17e726-c564-48e2-b9dc-aa1a3c88d67b",
   "metadata": {},
   "outputs": [
    {
     "name": "stdout",
     "output_type": "stream",
     "text": [
      "Rows with missing values in column: Studios\n",
      "Empty DataFrame\n",
      "Columns: [ID, Title, Studios]\n",
      "Index: []\n"
     ]
    }
   ],
   "source": [
    "check_missing_for_column('Studios')"
   ]
  },
  {
   "cell_type": "markdown",
   "id": "d5b2393f-8ea0-4f0f-86c7-f767f9087421",
   "metadata": {},
   "source": [
    "#### Re-checking for all columns"
   ]
  },
  {
   "cell_type": "code",
   "execution_count": 14,
   "id": "63511a98-fd6e-4514-ae19-93f8ba4586da",
   "metadata": {},
   "outputs": [
    {
     "name": "stdout",
     "output_type": "stream",
     "text": [
      "Missing values per column:\n",
      "ID                        0\n",
      "Title                     0\n",
      "Alternative Title (en)    0\n",
      "Media Type                0\n",
      "Status                    0\n",
      "Premiered Season          0\n",
      "Genres                    0\n",
      "User Score                0\n",
      "Number of Ratings         0\n",
      "Number of Members         0\n",
      "Studios                   0\n",
      "Rating                    0\n",
      "dtype: int64\n"
     ]
    }
   ],
   "source": [
    "missing_values = anime_data.isnull().sum()\n",
    "\n",
    "print(\"Missing values per column:\")\n",
    "print(missing_values)"
   ]
  },
  {
   "cell_type": "markdown",
   "id": "f317f69f-dca7-4176-bb46-2078ba838d8f",
   "metadata": {},
   "source": [
    "### Check for non-standard items\n",
    "- **Purpose**:\n",
    "- **Solution**: Delete the rows containing values that do not match the standard structure of the columns.\n",
    "\r\n",
    "\r\n"
   ]
  },
  {
   "cell_type": "markdown",
   "id": "34d682bc-3778-4050-a385-43e0a8e188b1",
   "metadata": {},
   "source": [
    "#### Validation functions"
   ]
  },
  {
   "cell_type": "markdown",
   "id": "c6366492-1b62-4c7b-92ef-ea142eca2cb3",
   "metadata": {},
   "source": [
    "**Standard structure** of each column:\n",
    "- ID: A single integer number (No leading zero, for example, 0109 is not permitted).\n",
    "- Title and Alternative Title (en): No constraint.\n",
    "- Media type: Only 'tv' or 'movie' (lowercase).\n",
    "- Status: Only 'finished_airing' or 'currently_airing' (lowercase).\n",
    "- Premiered season: 'Season' + Year, for example: 'Winter 2024'.\n",
    "- Genres: No excluded genres.\n",
    "- User score: A single float number (rounded up to 2 decimal places), not less than 0 and not greater than 10.\n",
    "- Number of Ratings: A single integer number, greater than 5000.\n",
    "- Number of Members: A single integer number, greater than 10000.\n",
    "- Studios: No constraint.\n",
    "- Rating: Follow MPAA (Motion Picture Association of America, [reference here](https://myanimelist.net/info.php?go=mpaa)) system (lowercase)."
   ]
  },
  {
   "cell_type": "code",
   "execution_count": 15,
   "id": "c02d1e83-9b8d-468f-9785-c566241c3be2",
   "metadata": {},
   "outputs": [],
   "source": [
    "# Define validation functions for each column\n",
    "def validate_id(value):\n",
    "    return isinstance(value, int) and not str(value).startswith('0')\n",
    "\n",
    "def validate_media_type(value):\n",
    "    return value.lower() in ['tv', 'movie']\n",
    "\n",
    "def validate_status(value):\n",
    "    return value.lower() in ['finished_airing', 'currently_airing']\n",
    "\n",
    "def validate_premiered_season(value):\n",
    "    return re.match(r'^(Winter|Spring|Summer|Fall) \\d{4}$', value) is not None\n",
    "\n",
    "def validate_genres(value, excluded_genres=['hentai']):\n",
    "    genres = value.split(', ')\n",
    "    return all(genre.lower() not in excluded_genres for genre in genres)\n",
    "\n",
    "def validate_user_score(value):\n",
    "    return isinstance(value, float) and 0.0 <= value <= 10.0\n",
    "\n",
    "def validate_number_of_ratings(value):\n",
    "    return isinstance(value, int) and value >= 5000\n",
    "\n",
    "def validate_number_of_members(value):\n",
    "    return isinstance(value, int) and value >= 10000\n",
    "\n",
    "def validate_rating(value):\n",
    "    mpaa_ratings = ['g', 'pg', 'pg_13', 'r', 'r+'] # Exclude final rating standard (please check reference link for this part)\n",
    "    return value.lower() in mpaa_ratings\n"
   ]
  },
  {
   "cell_type": "markdown",
   "id": "63e43625-7a4d-4cb6-a50b-7e4ee9e8c5c0",
   "metadata": {},
   "source": [
    "#### Validate and exclude incorrect rows "
   ]
  },
  {
   "cell_type": "code",
   "execution_count": 16,
   "id": "2aaaae57-cade-4204-b9ea-806af962bb72",
   "metadata": {},
   "outputs": [
    {
     "data": {
      "text/html": [
       "<div>\n",
       "<style scoped>\n",
       "    .dataframe tbody tr th:only-of-type {\n",
       "        vertical-align: middle;\n",
       "    }\n",
       "\n",
       "    .dataframe tbody tr th {\n",
       "        vertical-align: top;\n",
       "    }\n",
       "\n",
       "    .dataframe thead th {\n",
       "        text-align: right;\n",
       "    }\n",
       "</style>\n",
       "<table border=\"1\" class=\"dataframe\">\n",
       "  <thead>\n",
       "    <tr style=\"text-align: right;\">\n",
       "      <th></th>\n",
       "      <th>ID</th>\n",
       "      <th>Title</th>\n",
       "      <th>Alternative Title (en)</th>\n",
       "      <th>Media Type</th>\n",
       "      <th>Status</th>\n",
       "      <th>Premiered Season</th>\n",
       "      <th>Genres</th>\n",
       "      <th>User Score</th>\n",
       "      <th>Number of Ratings</th>\n",
       "      <th>Number of Members</th>\n",
       "      <th>Studios</th>\n",
       "      <th>Rating</th>\n",
       "    </tr>\n",
       "  </thead>\n",
       "  <tbody>\n",
       "    <tr>\n",
       "      <th>0</th>\n",
       "      <td>3907</td>\n",
       "      <td>Ginga Sengoku Gunyuuden Rai</td>\n",
       "      <td>Galaxy Warring State Chronicle Rai</td>\n",
       "      <td>tv</td>\n",
       "      <td>finished_airing</td>\n",
       "      <td>Spring 1994</td>\n",
       "      <td>Adventure, Romance, Sci-Fi, Shounen, Space</td>\n",
       "      <td>7.89</td>\n",
       "      <td>5590</td>\n",
       "      <td>16613</td>\n",
       "      <td>E&amp;G Films</td>\n",
       "      <td>pg_13</td>\n",
       "    </tr>\n",
       "    <tr>\n",
       "      <th>1</th>\n",
       "      <td>1573</td>\n",
       "      <td>Kishin Douji Zenki</td>\n",
       "      <td>Zenki</td>\n",
       "      <td>tv</td>\n",
       "      <td>finished_airing</td>\n",
       "      <td>Winter 1995</td>\n",
       "      <td>Action, Comedy, Drama, Fantasy, Horror, Mythol...</td>\n",
       "      <td>6.97</td>\n",
       "      <td>5956</td>\n",
       "      <td>15094</td>\n",
       "      <td>Studio Deen</td>\n",
       "      <td>pg_13</td>\n",
       "    </tr>\n",
       "    <tr>\n",
       "      <th>2</th>\n",
       "      <td>520</td>\n",
       "      <td>Marmalade Boy Movie</td>\n",
       "      <td>None</td>\n",
       "      <td>movie</td>\n",
       "      <td>finished_airing</td>\n",
       "      <td>Winter 1995</td>\n",
       "      <td>Romance, Shoujo</td>\n",
       "      <td>7.29</td>\n",
       "      <td>5082</td>\n",
       "      <td>11647</td>\n",
       "      <td>Toei Animation</td>\n",
       "      <td>pg_13</td>\n",
       "    </tr>\n",
       "    <tr>\n",
       "      <th>3</th>\n",
       "      <td>103</td>\n",
       "      <td>Akazukin Chacha</td>\n",
       "      <td>Red Riding Hood Chacha</td>\n",
       "      <td>tv</td>\n",
       "      <td>finished_airing</td>\n",
       "      <td>Winter 1994</td>\n",
       "      <td>Adventure, Comedy, Fantasy, Mahou Shoujo, Roma...</td>\n",
       "      <td>7.41</td>\n",
       "      <td>6075</td>\n",
       "      <td>16889</td>\n",
       "      <td>Gallop</td>\n",
       "      <td>g</td>\n",
       "    </tr>\n",
       "    <tr>\n",
       "      <th>4</th>\n",
       "      <td>813</td>\n",
       "      <td>Dragon Ball Z</td>\n",
       "      <td>Dragon Ball Z</td>\n",
       "      <td>tv</td>\n",
       "      <td>finished_airing</td>\n",
       "      <td>Spring 1989</td>\n",
       "      <td>Action, Adventure, Comedy, Fantasy, Martial Ar...</td>\n",
       "      <td>8.19</td>\n",
       "      <td>863786</td>\n",
       "      <td>1258233</td>\n",
       "      <td>Toei Animation</td>\n",
       "      <td>pg_13</td>\n",
       "    </tr>\n",
       "    <tr>\n",
       "      <th>...</th>\n",
       "      <td>...</td>\n",
       "      <td>...</td>\n",
       "      <td>...</td>\n",
       "      <td>...</td>\n",
       "      <td>...</td>\n",
       "      <td>...</td>\n",
       "      <td>...</td>\n",
       "      <td>...</td>\n",
       "      <td>...</td>\n",
       "      <td>...</td>\n",
       "      <td>...</td>\n",
       "      <td>...</td>\n",
       "    </tr>\n",
       "    <tr>\n",
       "      <th>4075</th>\n",
       "      <td>57102</td>\n",
       "      <td>Houkago Shounen Hanako-kun Part 2</td>\n",
       "      <td>After-School Hanako-kun Part 2</td>\n",
       "      <td>tv</td>\n",
       "      <td>finished_airing</td>\n",
       "      <td>Fall 2024</td>\n",
       "      <td>Comedy, School, Supernatural</td>\n",
       "      <td>7.02</td>\n",
       "      <td>5245</td>\n",
       "      <td>29133</td>\n",
       "      <td>Lerche</td>\n",
       "      <td>pg_13</td>\n",
       "    </tr>\n",
       "    <tr>\n",
       "      <th>4076</th>\n",
       "      <td>53876</td>\n",
       "      <td>Pokemon (2023)</td>\n",
       "      <td>Pokémon Horizons: The Series</td>\n",
       "      <td>tv</td>\n",
       "      <td>currently_airing</td>\n",
       "      <td>Spring 2023</td>\n",
       "      <td>Action, Adventure, Comedy, Fantasy, Kids</td>\n",
       "      <td>7.40</td>\n",
       "      <td>7542</td>\n",
       "      <td>33947</td>\n",
       "      <td>OLM</td>\n",
       "      <td>pg</td>\n",
       "    </tr>\n",
       "    <tr>\n",
       "      <th>4077</th>\n",
       "      <td>54726</td>\n",
       "      <td>Tsuma, Shougakusei ni Naru.</td>\n",
       "      <td>TsumaSho</td>\n",
       "      <td>tv</td>\n",
       "      <td>currently_airing</td>\n",
       "      <td>Fall 2024</td>\n",
       "      <td>Comedy, Reincarnation, Romance, Seinen</td>\n",
       "      <td>7.23</td>\n",
       "      <td>5155</td>\n",
       "      <td>41356</td>\n",
       "      <td>Studio Signpost</td>\n",
       "      <td>pg_13</td>\n",
       "    </tr>\n",
       "    <tr>\n",
       "      <th>4078</th>\n",
       "      <td>53033</td>\n",
       "      <td>Mecha-ude (TV)</td>\n",
       "      <td>Mecha-Ude: Mechanical Arms</td>\n",
       "      <td>tv</td>\n",
       "      <td>currently_airing</td>\n",
       "      <td>Fall 2024</td>\n",
       "      <td>Action, Sci-Fi</td>\n",
       "      <td>7.07</td>\n",
       "      <td>5015</td>\n",
       "      <td>39806</td>\n",
       "      <td>TriF Studio</td>\n",
       "      <td>pg_13</td>\n",
       "    </tr>\n",
       "    <tr>\n",
       "      <th>4079</th>\n",
       "      <td>40333</td>\n",
       "      <td>Uzumaki</td>\n",
       "      <td>Uzumaki: Spiral into Horror</td>\n",
       "      <td>tv</td>\n",
       "      <td>finished_airing</td>\n",
       "      <td>Fall 2024</td>\n",
       "      <td>Avant Garde, Drama, Horror, Psychological, Sei...</td>\n",
       "      <td>5.95</td>\n",
       "      <td>47791</td>\n",
       "      <td>219801</td>\n",
       "      <td>Akatsuki, Fugaku</td>\n",
       "      <td>r</td>\n",
       "    </tr>\n",
       "  </tbody>\n",
       "</table>\n",
       "<p>4080 rows × 12 columns</p>\n",
       "</div>"
      ],
      "text/plain": [
       "         ID                              Title  \\\n",
       "0      3907        Ginga Sengoku Gunyuuden Rai   \n",
       "1      1573                 Kishin Douji Zenki   \n",
       "2       520                Marmalade Boy Movie   \n",
       "3       103                    Akazukin Chacha   \n",
       "4       813                      Dragon Ball Z   \n",
       "...     ...                                ...   \n",
       "4075  57102  Houkago Shounen Hanako-kun Part 2   \n",
       "4076  53876                     Pokemon (2023)   \n",
       "4077  54726        Tsuma, Shougakusei ni Naru.   \n",
       "4078  53033                     Mecha-ude (TV)   \n",
       "4079  40333                            Uzumaki   \n",
       "\n",
       "                  Alternative Title (en) Media Type            Status  \\\n",
       "0     Galaxy Warring State Chronicle Rai         tv   finished_airing   \n",
       "1                                  Zenki         tv   finished_airing   \n",
       "2                                   None      movie   finished_airing   \n",
       "3                 Red Riding Hood Chacha         tv   finished_airing   \n",
       "4                          Dragon Ball Z         tv   finished_airing   \n",
       "...                                  ...        ...               ...   \n",
       "4075      After-School Hanako-kun Part 2         tv   finished_airing   \n",
       "4076        Pokémon Horizons: The Series         tv  currently_airing   \n",
       "4077                            TsumaSho         tv  currently_airing   \n",
       "4078          Mecha-Ude: Mechanical Arms         tv  currently_airing   \n",
       "4079         Uzumaki: Spiral into Horror         tv   finished_airing   \n",
       "\n",
       "     Premiered Season                                             Genres  \\\n",
       "0         Spring 1994         Adventure, Romance, Sci-Fi, Shounen, Space   \n",
       "1         Winter 1995  Action, Comedy, Drama, Fantasy, Horror, Mythol...   \n",
       "2         Winter 1995                                    Romance, Shoujo   \n",
       "3         Winter 1994  Adventure, Comedy, Fantasy, Mahou Shoujo, Roma...   \n",
       "4         Spring 1989  Action, Adventure, Comedy, Fantasy, Martial Ar...   \n",
       "...               ...                                                ...   \n",
       "4075        Fall 2024                       Comedy, School, Supernatural   \n",
       "4076      Spring 2023           Action, Adventure, Comedy, Fantasy, Kids   \n",
       "4077        Fall 2024             Comedy, Reincarnation, Romance, Seinen   \n",
       "4078        Fall 2024                                     Action, Sci-Fi   \n",
       "4079        Fall 2024  Avant Garde, Drama, Horror, Psychological, Sei...   \n",
       "\n",
       "      User Score  Number of Ratings  Number of Members           Studios  \\\n",
       "0           7.89               5590              16613         E&G Films   \n",
       "1           6.97               5956              15094       Studio Deen   \n",
       "2           7.29               5082              11647    Toei Animation   \n",
       "3           7.41               6075              16889            Gallop   \n",
       "4           8.19             863786            1258233    Toei Animation   \n",
       "...          ...                ...                ...               ...   \n",
       "4075        7.02               5245              29133            Lerche   \n",
       "4076        7.40               7542              33947               OLM   \n",
       "4077        7.23               5155              41356   Studio Signpost   \n",
       "4078        7.07               5015              39806       TriF Studio   \n",
       "4079        5.95              47791             219801  Akatsuki, Fugaku   \n",
       "\n",
       "     Rating  \n",
       "0     pg_13  \n",
       "1     pg_13  \n",
       "2     pg_13  \n",
       "3         g  \n",
       "4     pg_13  \n",
       "...     ...  \n",
       "4075  pg_13  \n",
       "4076     pg  \n",
       "4077  pg_13  \n",
       "4078  pg_13  \n",
       "4079      r  \n",
       "\n",
       "[4080 rows x 12 columns]"
      ]
     },
     "execution_count": 16,
     "metadata": {},
     "output_type": "execute_result"
    }
   ],
   "source": [
    "# Apply validations and keep only valid rows\n",
    "anime_data = anime_data[\n",
    "    anime_data['ID'].apply(validate_id) &\n",
    "    anime_data['Media Type'].apply(validate_media_type) &\n",
    "    anime_data['Status'].apply(validate_status) &\n",
    "    anime_data['Premiered Season'].apply(validate_premiered_season) &\n",
    "    anime_data['Genres'].apply(validate_genres) &\n",
    "    anime_data['User Score'].apply(validate_user_score) &\n",
    "    anime_data['Number of Ratings'].apply(validate_number_of_ratings) &\n",
    "    anime_data['Number of Members'].apply(validate_number_of_members) &\n",
    "    anime_data['Rating'].apply(validate_rating)\n",
    "]\n",
    "\n",
    "# Check dataset\n",
    "anime_data"
   ]
  },
  {
   "cell_type": "markdown",
   "id": "f05872b2-e517-494f-b834-7ae8b77b6e71",
   "metadata": {},
   "source": [
    "### Check for duplicated rows\n",
    "- **Purpose**:"
   ]
  },
  {
   "cell_type": "code",
   "execution_count": 17,
   "id": "4f9a07c5-3919-4256-a926-7903d3dac564",
   "metadata": {},
   "outputs": [
    {
     "name": "stdout",
     "output_type": "stream",
     "text": [
      "Number of duplicated rows: 1930\n"
     ]
    }
   ],
   "source": [
    "duplicates = anime_data.duplicated() # Find duplicated rows\n",
    "num_duplicates = duplicates.sum() # Get the number of duplicated rows\n",
    "\n",
    "print(f\"Number of duplicated rows: {num_duplicates}\")"
   ]
  },
  {
   "cell_type": "markdown",
   "id": "f2236b7a-8d73-473e-8122-dada869f38a6",
   "metadata": {},
   "source": [
    "- Remove duplicated rows:"
   ]
  },
  {
   "cell_type": "code",
   "execution_count": 18,
   "id": "477dea66-fe7c-4172-bae2-c69a93161cf9",
   "metadata": {},
   "outputs": [
    {
     "data": {
      "text/html": [
       "<div>\n",
       "<style scoped>\n",
       "    .dataframe tbody tr th:only-of-type {\n",
       "        vertical-align: middle;\n",
       "    }\n",
       "\n",
       "    .dataframe tbody tr th {\n",
       "        vertical-align: top;\n",
       "    }\n",
       "\n",
       "    .dataframe thead th {\n",
       "        text-align: right;\n",
       "    }\n",
       "</style>\n",
       "<table border=\"1\" class=\"dataframe\">\n",
       "  <thead>\n",
       "    <tr style=\"text-align: right;\">\n",
       "      <th></th>\n",
       "      <th>ID</th>\n",
       "      <th>Title</th>\n",
       "      <th>Alternative Title (en)</th>\n",
       "      <th>Media Type</th>\n",
       "      <th>Status</th>\n",
       "      <th>Premiered Season</th>\n",
       "      <th>Genres</th>\n",
       "      <th>User Score</th>\n",
       "      <th>Number of Ratings</th>\n",
       "      <th>Number of Members</th>\n",
       "      <th>Studios</th>\n",
       "      <th>Rating</th>\n",
       "    </tr>\n",
       "  </thead>\n",
       "  <tbody>\n",
       "    <tr>\n",
       "      <th>0</th>\n",
       "      <td>3907</td>\n",
       "      <td>Ginga Sengoku Gunyuuden Rai</td>\n",
       "      <td>Galaxy Warring State Chronicle Rai</td>\n",
       "      <td>tv</td>\n",
       "      <td>finished_airing</td>\n",
       "      <td>Spring 1994</td>\n",
       "      <td>Adventure, Romance, Sci-Fi, Shounen, Space</td>\n",
       "      <td>7.89</td>\n",
       "      <td>5590</td>\n",
       "      <td>16613</td>\n",
       "      <td>E&amp;G Films</td>\n",
       "      <td>pg_13</td>\n",
       "    </tr>\n",
       "    <tr>\n",
       "      <th>1</th>\n",
       "      <td>1573</td>\n",
       "      <td>Kishin Douji Zenki</td>\n",
       "      <td>Zenki</td>\n",
       "      <td>tv</td>\n",
       "      <td>finished_airing</td>\n",
       "      <td>Winter 1995</td>\n",
       "      <td>Action, Comedy, Drama, Fantasy, Horror, Mythol...</td>\n",
       "      <td>6.97</td>\n",
       "      <td>5956</td>\n",
       "      <td>15094</td>\n",
       "      <td>Studio Deen</td>\n",
       "      <td>pg_13</td>\n",
       "    </tr>\n",
       "    <tr>\n",
       "      <th>2</th>\n",
       "      <td>520</td>\n",
       "      <td>Marmalade Boy Movie</td>\n",
       "      <td>None</td>\n",
       "      <td>movie</td>\n",
       "      <td>finished_airing</td>\n",
       "      <td>Winter 1995</td>\n",
       "      <td>Romance, Shoujo</td>\n",
       "      <td>7.29</td>\n",
       "      <td>5082</td>\n",
       "      <td>11647</td>\n",
       "      <td>Toei Animation</td>\n",
       "      <td>pg_13</td>\n",
       "    </tr>\n",
       "    <tr>\n",
       "      <th>3</th>\n",
       "      <td>103</td>\n",
       "      <td>Akazukin Chacha</td>\n",
       "      <td>Red Riding Hood Chacha</td>\n",
       "      <td>tv</td>\n",
       "      <td>finished_airing</td>\n",
       "      <td>Winter 1994</td>\n",
       "      <td>Adventure, Comedy, Fantasy, Mahou Shoujo, Roma...</td>\n",
       "      <td>7.41</td>\n",
       "      <td>6075</td>\n",
       "      <td>16889</td>\n",
       "      <td>Gallop</td>\n",
       "      <td>g</td>\n",
       "    </tr>\n",
       "    <tr>\n",
       "      <th>4</th>\n",
       "      <td>813</td>\n",
       "      <td>Dragon Ball Z</td>\n",
       "      <td>Dragon Ball Z</td>\n",
       "      <td>tv</td>\n",
       "      <td>finished_airing</td>\n",
       "      <td>Spring 1989</td>\n",
       "      <td>Action, Adventure, Comedy, Fantasy, Martial Ar...</td>\n",
       "      <td>8.19</td>\n",
       "      <td>863786</td>\n",
       "      <td>1258233</td>\n",
       "      <td>Toei Animation</td>\n",
       "      <td>pg_13</td>\n",
       "    </tr>\n",
       "    <tr>\n",
       "      <th>...</th>\n",
       "      <td>...</td>\n",
       "      <td>...</td>\n",
       "      <td>...</td>\n",
       "      <td>...</td>\n",
       "      <td>...</td>\n",
       "      <td>...</td>\n",
       "      <td>...</td>\n",
       "      <td>...</td>\n",
       "      <td>...</td>\n",
       "      <td>...</td>\n",
       "      <td>...</td>\n",
       "      <td>...</td>\n",
       "    </tr>\n",
       "    <tr>\n",
       "      <th>2145</th>\n",
       "      <td>56228</td>\n",
       "      <td>Rekishi ni Nokoru Akujo ni Naru zo</td>\n",
       "      <td>I'll Become a Villainess Who Goes Down in History</td>\n",
       "      <td>tv</td>\n",
       "      <td>currently_airing</td>\n",
       "      <td>Fall 2024</td>\n",
       "      <td>Comedy, Fantasy, Isekai, Romance, Shoujo, Vill...</td>\n",
       "      <td>7.06</td>\n",
       "      <td>8835</td>\n",
       "      <td>61849</td>\n",
       "      <td>Maho Film</td>\n",
       "      <td>pg_13</td>\n",
       "    </tr>\n",
       "    <tr>\n",
       "      <th>2146</th>\n",
       "      <td>57102</td>\n",
       "      <td>Houkago Shounen Hanako-kun Part 2</td>\n",
       "      <td>After-School Hanako-kun Part 2</td>\n",
       "      <td>tv</td>\n",
       "      <td>finished_airing</td>\n",
       "      <td>Fall 2024</td>\n",
       "      <td>Comedy, School, Supernatural</td>\n",
       "      <td>7.02</td>\n",
       "      <td>5245</td>\n",
       "      <td>29133</td>\n",
       "      <td>Lerche</td>\n",
       "      <td>pg_13</td>\n",
       "    </tr>\n",
       "    <tr>\n",
       "      <th>2147</th>\n",
       "      <td>54726</td>\n",
       "      <td>Tsuma, Shougakusei ni Naru.</td>\n",
       "      <td>TsumaSho</td>\n",
       "      <td>tv</td>\n",
       "      <td>currently_airing</td>\n",
       "      <td>Fall 2024</td>\n",
       "      <td>Comedy, Reincarnation, Romance, Seinen</td>\n",
       "      <td>7.23</td>\n",
       "      <td>5155</td>\n",
       "      <td>41356</td>\n",
       "      <td>Studio Signpost</td>\n",
       "      <td>pg_13</td>\n",
       "    </tr>\n",
       "    <tr>\n",
       "      <th>2148</th>\n",
       "      <td>53033</td>\n",
       "      <td>Mecha-ude (TV)</td>\n",
       "      <td>Mecha-Ude: Mechanical Arms</td>\n",
       "      <td>tv</td>\n",
       "      <td>currently_airing</td>\n",
       "      <td>Fall 2024</td>\n",
       "      <td>Action, Sci-Fi</td>\n",
       "      <td>7.07</td>\n",
       "      <td>5015</td>\n",
       "      <td>39806</td>\n",
       "      <td>TriF Studio</td>\n",
       "      <td>pg_13</td>\n",
       "    </tr>\n",
       "    <tr>\n",
       "      <th>2149</th>\n",
       "      <td>40333</td>\n",
       "      <td>Uzumaki</td>\n",
       "      <td>Uzumaki: Spiral into Horror</td>\n",
       "      <td>tv</td>\n",
       "      <td>finished_airing</td>\n",
       "      <td>Fall 2024</td>\n",
       "      <td>Avant Garde, Drama, Horror, Psychological, Sei...</td>\n",
       "      <td>5.95</td>\n",
       "      <td>47791</td>\n",
       "      <td>219801</td>\n",
       "      <td>Akatsuki, Fugaku</td>\n",
       "      <td>r</td>\n",
       "    </tr>\n",
       "  </tbody>\n",
       "</table>\n",
       "<p>2150 rows × 12 columns</p>\n",
       "</div>"
      ],
      "text/plain": [
       "         ID                               Title  \\\n",
       "0      3907         Ginga Sengoku Gunyuuden Rai   \n",
       "1      1573                  Kishin Douji Zenki   \n",
       "2       520                 Marmalade Boy Movie   \n",
       "3       103                     Akazukin Chacha   \n",
       "4       813                       Dragon Ball Z   \n",
       "...     ...                                 ...   \n",
       "2145  56228  Rekishi ni Nokoru Akujo ni Naru zo   \n",
       "2146  57102   Houkago Shounen Hanako-kun Part 2   \n",
       "2147  54726         Tsuma, Shougakusei ni Naru.   \n",
       "2148  53033                      Mecha-ude (TV)   \n",
       "2149  40333                             Uzumaki   \n",
       "\n",
       "                                 Alternative Title (en) Media Type  \\\n",
       "0                    Galaxy Warring State Chronicle Rai         tv   \n",
       "1                                                 Zenki         tv   \n",
       "2                                                  None      movie   \n",
       "3                                Red Riding Hood Chacha         tv   \n",
       "4                                         Dragon Ball Z         tv   \n",
       "...                                                 ...        ...   \n",
       "2145  I'll Become a Villainess Who Goes Down in History         tv   \n",
       "2146                     After-School Hanako-kun Part 2         tv   \n",
       "2147                                           TsumaSho         tv   \n",
       "2148                         Mecha-Ude: Mechanical Arms         tv   \n",
       "2149                        Uzumaki: Spiral into Horror         tv   \n",
       "\n",
       "                Status Premiered Season  \\\n",
       "0      finished_airing      Spring 1994   \n",
       "1      finished_airing      Winter 1995   \n",
       "2      finished_airing      Winter 1995   \n",
       "3      finished_airing      Winter 1994   \n",
       "4      finished_airing      Spring 1989   \n",
       "...                ...              ...   \n",
       "2145  currently_airing        Fall 2024   \n",
       "2146   finished_airing        Fall 2024   \n",
       "2147  currently_airing        Fall 2024   \n",
       "2148  currently_airing        Fall 2024   \n",
       "2149   finished_airing        Fall 2024   \n",
       "\n",
       "                                                 Genres  User Score  \\\n",
       "0            Adventure, Romance, Sci-Fi, Shounen, Space        7.89   \n",
       "1     Action, Comedy, Drama, Fantasy, Horror, Mythol...        6.97   \n",
       "2                                       Romance, Shoujo        7.29   \n",
       "3     Adventure, Comedy, Fantasy, Mahou Shoujo, Roma...        7.41   \n",
       "4     Action, Adventure, Comedy, Fantasy, Martial Ar...        8.19   \n",
       "...                                                 ...         ...   \n",
       "2145  Comedy, Fantasy, Isekai, Romance, Shoujo, Vill...        7.06   \n",
       "2146                       Comedy, School, Supernatural        7.02   \n",
       "2147             Comedy, Reincarnation, Romance, Seinen        7.23   \n",
       "2148                                     Action, Sci-Fi        7.07   \n",
       "2149  Avant Garde, Drama, Horror, Psychological, Sei...        5.95   \n",
       "\n",
       "      Number of Ratings  Number of Members           Studios Rating  \n",
       "0                  5590              16613         E&G Films  pg_13  \n",
       "1                  5956              15094       Studio Deen  pg_13  \n",
       "2                  5082              11647    Toei Animation  pg_13  \n",
       "3                  6075              16889            Gallop      g  \n",
       "4                863786            1258233    Toei Animation  pg_13  \n",
       "...                 ...                ...               ...    ...  \n",
       "2145               8835              61849         Maho Film  pg_13  \n",
       "2146               5245              29133            Lerche  pg_13  \n",
       "2147               5155              41356   Studio Signpost  pg_13  \n",
       "2148               5015              39806       TriF Studio  pg_13  \n",
       "2149              47791             219801  Akatsuki, Fugaku      r  \n",
       "\n",
       "[2150 rows x 12 columns]"
      ]
     },
     "execution_count": 18,
     "metadata": {},
     "output_type": "execute_result"
    }
   ],
   "source": [
    "anime_data = anime_data.drop_duplicates() # Remove duplicated rows\n",
    "anime_data = anime_data.reset_index(drop=True) # Fix indices\n",
    "\n",
    "anime_data"
   ]
  },
  {
   "cell_type": "markdown",
   "id": "8cf31572-53ca-47fa-b9cf-92341c922005",
   "metadata": {},
   "source": [
    "- **Conclusion**: The dataset remains sufficiently **large (>=1000 samples)** after removing duplicate rows $\\rightarrow$ The dataset is still **valid**."
   ]
  },
  {
   "cell_type": "markdown",
   "id": "a13bacac-7a5a-48e7-bc1b-5717847fb598",
   "metadata": {},
   "source": [
    "### Sort dataset\n",
    "- Sort dataset by column **'Premiered Season'**\n",
    "- **Purpose**:"
   ]
  },
  {
   "cell_type": "code",
   "execution_count": 19,
   "id": "bf18aba2-794f-4f91-bafc-93e1068c59cd",
   "metadata": {},
   "outputs": [
    {
     "data": {
      "text/html": [
       "<div>\n",
       "<style scoped>\n",
       "    .dataframe tbody tr th:only-of-type {\n",
       "        vertical-align: middle;\n",
       "    }\n",
       "\n",
       "    .dataframe tbody tr th {\n",
       "        vertical-align: top;\n",
       "    }\n",
       "\n",
       "    .dataframe thead th {\n",
       "        text-align: right;\n",
       "    }\n",
       "</style>\n",
       "<table border=\"1\" class=\"dataframe\">\n",
       "  <thead>\n",
       "    <tr style=\"text-align: right;\">\n",
       "      <th></th>\n",
       "      <th>ID</th>\n",
       "      <th>Title</th>\n",
       "      <th>Alternative Title (en)</th>\n",
       "      <th>Media Type</th>\n",
       "      <th>Status</th>\n",
       "      <th>Premiered Season</th>\n",
       "      <th>Genres</th>\n",
       "      <th>User Score</th>\n",
       "      <th>Number of Ratings</th>\n",
       "      <th>Number of Members</th>\n",
       "      <th>Studios</th>\n",
       "      <th>Rating</th>\n",
       "    </tr>\n",
       "  </thead>\n",
       "  <tbody>\n",
       "    <tr>\n",
       "      <th>0</th>\n",
       "      <td>2471</td>\n",
       "      <td>Doraemon (1979)</td>\n",
       "      <td>Doraemon</td>\n",
       "      <td>tv</td>\n",
       "      <td>finished_airing</td>\n",
       "      <td>Spring 1979</td>\n",
       "      <td>Adventure, Anthropomorphic, Comedy, Fantasy, K...</td>\n",
       "      <td>7.86</td>\n",
       "      <td>39342</td>\n",
       "      <td>66089</td>\n",
       "      <td>Shin-Ei Animation</td>\n",
       "      <td>pg</td>\n",
       "    </tr>\n",
       "    <tr>\n",
       "      <th>1</th>\n",
       "      <td>813</td>\n",
       "      <td>Dragon Ball Z</td>\n",
       "      <td>Dragon Ball Z</td>\n",
       "      <td>tv</td>\n",
       "      <td>finished_airing</td>\n",
       "      <td>Spring 1989</td>\n",
       "      <td>Action, Adventure, Comedy, Fantasy, Martial Ar...</td>\n",
       "      <td>8.19</td>\n",
       "      <td>863786</td>\n",
       "      <td>1258233</td>\n",
       "      <td>Toei Animation</td>\n",
       "      <td>pg_13</td>\n",
       "    </tr>\n",
       "    <tr>\n",
       "      <th>2</th>\n",
       "      <td>966</td>\n",
       "      <td>Crayon Shin-chan</td>\n",
       "      <td>Shin Chan</td>\n",
       "      <td>tv</td>\n",
       "      <td>currently_airing</td>\n",
       "      <td>Spring 1992</td>\n",
       "      <td>Comedy, Ecchi, School, Seinen</td>\n",
       "      <td>7.80</td>\n",
       "      <td>41800</td>\n",
       "      <td>87019</td>\n",
       "      <td>Shin-Ei Animation</td>\n",
       "      <td>g</td>\n",
       "    </tr>\n",
       "    <tr>\n",
       "      <th>3</th>\n",
       "      <td>170</td>\n",
       "      <td>Slam Dunk</td>\n",
       "      <td>Slam Dunk</td>\n",
       "      <td>tv</td>\n",
       "      <td>finished_airing</td>\n",
       "      <td>Fall 1993</td>\n",
       "      <td>School, Shounen, Sports, Team Sports</td>\n",
       "      <td>8.55</td>\n",
       "      <td>141218</td>\n",
       "      <td>312658</td>\n",
       "      <td>Toei Animation</td>\n",
       "      <td>pg_13</td>\n",
       "    </tr>\n",
       "    <tr>\n",
       "      <th>4</th>\n",
       "      <td>103</td>\n",
       "      <td>Akazukin Chacha</td>\n",
       "      <td>Red Riding Hood Chacha</td>\n",
       "      <td>tv</td>\n",
       "      <td>finished_airing</td>\n",
       "      <td>Winter 1994</td>\n",
       "      <td>Adventure, Comedy, Fantasy, Mahou Shoujo, Roma...</td>\n",
       "      <td>7.41</td>\n",
       "      <td>6075</td>\n",
       "      <td>16889</td>\n",
       "      <td>Gallop</td>\n",
       "      <td>g</td>\n",
       "    </tr>\n",
       "    <tr>\n",
       "      <th>...</th>\n",
       "      <td>...</td>\n",
       "      <td>...</td>\n",
       "      <td>...</td>\n",
       "      <td>...</td>\n",
       "      <td>...</td>\n",
       "      <td>...</td>\n",
       "      <td>...</td>\n",
       "      <td>...</td>\n",
       "      <td>...</td>\n",
       "      <td>...</td>\n",
       "      <td>...</td>\n",
       "      <td>...</td>\n",
       "    </tr>\n",
       "    <tr>\n",
       "      <th>2145</th>\n",
       "      <td>56228</td>\n",
       "      <td>Rekishi ni Nokoru Akujo ni Naru zo</td>\n",
       "      <td>I'll Become a Villainess Who Goes Down in History</td>\n",
       "      <td>tv</td>\n",
       "      <td>currently_airing</td>\n",
       "      <td>Fall 2024</td>\n",
       "      <td>Comedy, Fantasy, Isekai, Romance, Shoujo, Vill...</td>\n",
       "      <td>7.06</td>\n",
       "      <td>8835</td>\n",
       "      <td>61849</td>\n",
       "      <td>Maho Film</td>\n",
       "      <td>pg_13</td>\n",
       "    </tr>\n",
       "    <tr>\n",
       "      <th>2146</th>\n",
       "      <td>57102</td>\n",
       "      <td>Houkago Shounen Hanako-kun Part 2</td>\n",
       "      <td>After-School Hanako-kun Part 2</td>\n",
       "      <td>tv</td>\n",
       "      <td>finished_airing</td>\n",
       "      <td>Fall 2024</td>\n",
       "      <td>Comedy, School, Supernatural</td>\n",
       "      <td>7.02</td>\n",
       "      <td>5245</td>\n",
       "      <td>29133</td>\n",
       "      <td>Lerche</td>\n",
       "      <td>pg_13</td>\n",
       "    </tr>\n",
       "    <tr>\n",
       "      <th>2147</th>\n",
       "      <td>54726</td>\n",
       "      <td>Tsuma, Shougakusei ni Naru.</td>\n",
       "      <td>TsumaSho</td>\n",
       "      <td>tv</td>\n",
       "      <td>currently_airing</td>\n",
       "      <td>Fall 2024</td>\n",
       "      <td>Comedy, Reincarnation, Romance, Seinen</td>\n",
       "      <td>7.23</td>\n",
       "      <td>5155</td>\n",
       "      <td>41356</td>\n",
       "      <td>Studio Signpost</td>\n",
       "      <td>pg_13</td>\n",
       "    </tr>\n",
       "    <tr>\n",
       "      <th>2148</th>\n",
       "      <td>53033</td>\n",
       "      <td>Mecha-ude (TV)</td>\n",
       "      <td>Mecha-Ude: Mechanical Arms</td>\n",
       "      <td>tv</td>\n",
       "      <td>currently_airing</td>\n",
       "      <td>Fall 2024</td>\n",
       "      <td>Action, Sci-Fi</td>\n",
       "      <td>7.07</td>\n",
       "      <td>5015</td>\n",
       "      <td>39806</td>\n",
       "      <td>TriF Studio</td>\n",
       "      <td>pg_13</td>\n",
       "    </tr>\n",
       "    <tr>\n",
       "      <th>2149</th>\n",
       "      <td>40333</td>\n",
       "      <td>Uzumaki</td>\n",
       "      <td>Uzumaki: Spiral into Horror</td>\n",
       "      <td>tv</td>\n",
       "      <td>finished_airing</td>\n",
       "      <td>Fall 2024</td>\n",
       "      <td>Avant Garde, Drama, Horror, Psychological, Sei...</td>\n",
       "      <td>5.95</td>\n",
       "      <td>47791</td>\n",
       "      <td>219801</td>\n",
       "      <td>Akatsuki, Fugaku</td>\n",
       "      <td>r</td>\n",
       "    </tr>\n",
       "  </tbody>\n",
       "</table>\n",
       "<p>2150 rows × 12 columns</p>\n",
       "</div>"
      ],
      "text/plain": [
       "         ID                               Title  \\\n",
       "0      2471                     Doraemon (1979)   \n",
       "1       813                       Dragon Ball Z   \n",
       "2       966                    Crayon Shin-chan   \n",
       "3       170                           Slam Dunk   \n",
       "4       103                     Akazukin Chacha   \n",
       "...     ...                                 ...   \n",
       "2145  56228  Rekishi ni Nokoru Akujo ni Naru zo   \n",
       "2146  57102   Houkago Shounen Hanako-kun Part 2   \n",
       "2147  54726         Tsuma, Shougakusei ni Naru.   \n",
       "2148  53033                      Mecha-ude (TV)   \n",
       "2149  40333                             Uzumaki   \n",
       "\n",
       "                                 Alternative Title (en) Media Type  \\\n",
       "0                                              Doraemon         tv   \n",
       "1                                         Dragon Ball Z         tv   \n",
       "2                                             Shin Chan         tv   \n",
       "3                                             Slam Dunk         tv   \n",
       "4                                Red Riding Hood Chacha         tv   \n",
       "...                                                 ...        ...   \n",
       "2145  I'll Become a Villainess Who Goes Down in History         tv   \n",
       "2146                     After-School Hanako-kun Part 2         tv   \n",
       "2147                                           TsumaSho         tv   \n",
       "2148                         Mecha-Ude: Mechanical Arms         tv   \n",
       "2149                        Uzumaki: Spiral into Horror         tv   \n",
       "\n",
       "                Status Premiered Season  \\\n",
       "0      finished_airing      Spring 1979   \n",
       "1      finished_airing      Spring 1989   \n",
       "2     currently_airing      Spring 1992   \n",
       "3      finished_airing        Fall 1993   \n",
       "4      finished_airing      Winter 1994   \n",
       "...                ...              ...   \n",
       "2145  currently_airing        Fall 2024   \n",
       "2146   finished_airing        Fall 2024   \n",
       "2147  currently_airing        Fall 2024   \n",
       "2148  currently_airing        Fall 2024   \n",
       "2149   finished_airing        Fall 2024   \n",
       "\n",
       "                                                 Genres  User Score  \\\n",
       "0     Adventure, Anthropomorphic, Comedy, Fantasy, K...        7.86   \n",
       "1     Action, Adventure, Comedy, Fantasy, Martial Ar...        8.19   \n",
       "2                         Comedy, Ecchi, School, Seinen        7.80   \n",
       "3                  School, Shounen, Sports, Team Sports        8.55   \n",
       "4     Adventure, Comedy, Fantasy, Mahou Shoujo, Roma...        7.41   \n",
       "...                                                 ...         ...   \n",
       "2145  Comedy, Fantasy, Isekai, Romance, Shoujo, Vill...        7.06   \n",
       "2146                       Comedy, School, Supernatural        7.02   \n",
       "2147             Comedy, Reincarnation, Romance, Seinen        7.23   \n",
       "2148                                     Action, Sci-Fi        7.07   \n",
       "2149  Avant Garde, Drama, Horror, Psychological, Sei...        5.95   \n",
       "\n",
       "      Number of Ratings  Number of Members            Studios Rating  \n",
       "0                 39342              66089  Shin-Ei Animation     pg  \n",
       "1                863786            1258233     Toei Animation  pg_13  \n",
       "2                 41800              87019  Shin-Ei Animation      g  \n",
       "3                141218             312658     Toei Animation  pg_13  \n",
       "4                  6075              16889             Gallop      g  \n",
       "...                 ...                ...                ...    ...  \n",
       "2145               8835              61849          Maho Film  pg_13  \n",
       "2146               5245              29133             Lerche  pg_13  \n",
       "2147               5155              41356    Studio Signpost  pg_13  \n",
       "2148               5015              39806        TriF Studio  pg_13  \n",
       "2149              47791             219801   Akatsuki, Fugaku      r  \n",
       "\n",
       "[2150 rows x 12 columns]"
      ]
     },
     "execution_count": 19,
     "metadata": {},
     "output_type": "execute_result"
    }
   ],
   "source": [
    "# Define a custom order for seasons\n",
    "season_order = {'Winter': 1, 'Spring': 2, 'Summer': 3, 'Fall': 4}\n",
    "\n",
    "# Extract the season and year from the \"Premiered Season\" column\n",
    "anime_data['Season Name'] = anime_data['Premiered Season'].str.split().str[0]\n",
    "anime_data['Year'] = anime_data['Premiered Season'].str.split().str[1].astype(int)\n",
    "\n",
    "anime_data = anime_data.sort_values(\n",
    "    by=['Year', 'Season Name'],\n",
    "    key=lambda col: col.map(season_order) if col.name == 'Season Name' else col\n",
    ")\n",
    "\n",
    "anime_data = anime_data.drop(columns=['Season Name', 'Year'])\n",
    "\n",
    "# Reset the index after sorting\n",
    "anime_data = anime_data.reset_index(drop=True)\n",
    "\n",
    "anime_data"
   ]
  },
  {
   "cell_type": "markdown",
   "id": "e37e5dbc-9766-4434-a036-ff8953ae612d",
   "metadata": {},
   "source": [
    "### Save the cleaned dataset to CSV file"
   ]
  },
  {
   "cell_type": "code",
   "execution_count": 20,
   "id": "997aea3f-2c3c-42a9-902e-00c5c1104f59",
   "metadata": {},
   "outputs": [],
   "source": [
    "# Save cleaned dataset\n",
    "anime_data.to_csv('./data/anime_data_cleaned.csv', index=False)"
   ]
  },
  {
   "cell_type": "markdown",
   "id": "23af16fb-f868-4a14-9e93-9264ff73b272",
   "metadata": {},
   "source": [
    "## Statistics\n",
    "- **Purpose**:"
   ]
  },
  {
   "cell_type": "markdown",
   "id": "0e08f63e-5416-4a1b-90fc-76113bede536",
   "metadata": {},
   "source": [
    "### Read cleaned data from CSV file"
   ]
  },
  {
   "cell_type": "code",
   "execution_count": 21,
   "id": "a1ce6d83-752e-47bf-b3dd-36e692a9d91a",
   "metadata": {},
   "outputs": [
    {
     "data": {
      "text/html": [
       "<div>\n",
       "<style scoped>\n",
       "    .dataframe tbody tr th:only-of-type {\n",
       "        vertical-align: middle;\n",
       "    }\n",
       "\n",
       "    .dataframe tbody tr th {\n",
       "        vertical-align: top;\n",
       "    }\n",
       "\n",
       "    .dataframe thead th {\n",
       "        text-align: right;\n",
       "    }\n",
       "</style>\n",
       "<table border=\"1\" class=\"dataframe\">\n",
       "  <thead>\n",
       "    <tr style=\"text-align: right;\">\n",
       "      <th></th>\n",
       "      <th>ID</th>\n",
       "      <th>Title</th>\n",
       "      <th>Alternative Title (en)</th>\n",
       "      <th>Media Type</th>\n",
       "      <th>Status</th>\n",
       "      <th>Premiered Season</th>\n",
       "      <th>Genres</th>\n",
       "      <th>User Score</th>\n",
       "      <th>Number of Ratings</th>\n",
       "      <th>Number of Members</th>\n",
       "      <th>Studios</th>\n",
       "      <th>Rating</th>\n",
       "    </tr>\n",
       "  </thead>\n",
       "  <tbody>\n",
       "    <tr>\n",
       "      <th>0</th>\n",
       "      <td>2471</td>\n",
       "      <td>Doraemon (1979)</td>\n",
       "      <td>Doraemon</td>\n",
       "      <td>tv</td>\n",
       "      <td>finished_airing</td>\n",
       "      <td>Spring 1979</td>\n",
       "      <td>Adventure, Anthropomorphic, Comedy, Fantasy, K...</td>\n",
       "      <td>7.86</td>\n",
       "      <td>39342</td>\n",
       "      <td>66089</td>\n",
       "      <td>Shin-Ei Animation</td>\n",
       "      <td>pg</td>\n",
       "    </tr>\n",
       "    <tr>\n",
       "      <th>1</th>\n",
       "      <td>813</td>\n",
       "      <td>Dragon Ball Z</td>\n",
       "      <td>Dragon Ball Z</td>\n",
       "      <td>tv</td>\n",
       "      <td>finished_airing</td>\n",
       "      <td>Spring 1989</td>\n",
       "      <td>Action, Adventure, Comedy, Fantasy, Martial Ar...</td>\n",
       "      <td>8.19</td>\n",
       "      <td>863786</td>\n",
       "      <td>1258233</td>\n",
       "      <td>Toei Animation</td>\n",
       "      <td>pg_13</td>\n",
       "    </tr>\n",
       "    <tr>\n",
       "      <th>2</th>\n",
       "      <td>966</td>\n",
       "      <td>Crayon Shin-chan</td>\n",
       "      <td>Shin Chan</td>\n",
       "      <td>tv</td>\n",
       "      <td>currently_airing</td>\n",
       "      <td>Spring 1992</td>\n",
       "      <td>Comedy, Ecchi, School, Seinen</td>\n",
       "      <td>7.80</td>\n",
       "      <td>41800</td>\n",
       "      <td>87019</td>\n",
       "      <td>Shin-Ei Animation</td>\n",
       "      <td>g</td>\n",
       "    </tr>\n",
       "    <tr>\n",
       "      <th>3</th>\n",
       "      <td>170</td>\n",
       "      <td>Slam Dunk</td>\n",
       "      <td>Slam Dunk</td>\n",
       "      <td>tv</td>\n",
       "      <td>finished_airing</td>\n",
       "      <td>Fall 1993</td>\n",
       "      <td>School, Shounen, Sports, Team Sports</td>\n",
       "      <td>8.55</td>\n",
       "      <td>141218</td>\n",
       "      <td>312658</td>\n",
       "      <td>Toei Animation</td>\n",
       "      <td>pg_13</td>\n",
       "    </tr>\n",
       "    <tr>\n",
       "      <th>4</th>\n",
       "      <td>103</td>\n",
       "      <td>Akazukin Chacha</td>\n",
       "      <td>Red Riding Hood Chacha</td>\n",
       "      <td>tv</td>\n",
       "      <td>finished_airing</td>\n",
       "      <td>Winter 1994</td>\n",
       "      <td>Adventure, Comedy, Fantasy, Mahou Shoujo, Roma...</td>\n",
       "      <td>7.41</td>\n",
       "      <td>6075</td>\n",
       "      <td>16889</td>\n",
       "      <td>Gallop</td>\n",
       "      <td>g</td>\n",
       "    </tr>\n",
       "    <tr>\n",
       "      <th>...</th>\n",
       "      <td>...</td>\n",
       "      <td>...</td>\n",
       "      <td>...</td>\n",
       "      <td>...</td>\n",
       "      <td>...</td>\n",
       "      <td>...</td>\n",
       "      <td>...</td>\n",
       "      <td>...</td>\n",
       "      <td>...</td>\n",
       "      <td>...</td>\n",
       "      <td>...</td>\n",
       "      <td>...</td>\n",
       "    </tr>\n",
       "    <tr>\n",
       "      <th>2145</th>\n",
       "      <td>56228</td>\n",
       "      <td>Rekishi ni Nokoru Akujo ni Naru zo</td>\n",
       "      <td>I'll Become a Villainess Who Goes Down in History</td>\n",
       "      <td>tv</td>\n",
       "      <td>currently_airing</td>\n",
       "      <td>Fall 2024</td>\n",
       "      <td>Comedy, Fantasy, Isekai, Romance, Shoujo, Vill...</td>\n",
       "      <td>7.06</td>\n",
       "      <td>8835</td>\n",
       "      <td>61849</td>\n",
       "      <td>Maho Film</td>\n",
       "      <td>pg_13</td>\n",
       "    </tr>\n",
       "    <tr>\n",
       "      <th>2146</th>\n",
       "      <td>57102</td>\n",
       "      <td>Houkago Shounen Hanako-kun Part 2</td>\n",
       "      <td>After-School Hanako-kun Part 2</td>\n",
       "      <td>tv</td>\n",
       "      <td>finished_airing</td>\n",
       "      <td>Fall 2024</td>\n",
       "      <td>Comedy, School, Supernatural</td>\n",
       "      <td>7.02</td>\n",
       "      <td>5245</td>\n",
       "      <td>29133</td>\n",
       "      <td>Lerche</td>\n",
       "      <td>pg_13</td>\n",
       "    </tr>\n",
       "    <tr>\n",
       "      <th>2147</th>\n",
       "      <td>54726</td>\n",
       "      <td>Tsuma, Shougakusei ni Naru.</td>\n",
       "      <td>TsumaSho</td>\n",
       "      <td>tv</td>\n",
       "      <td>currently_airing</td>\n",
       "      <td>Fall 2024</td>\n",
       "      <td>Comedy, Reincarnation, Romance, Seinen</td>\n",
       "      <td>7.23</td>\n",
       "      <td>5155</td>\n",
       "      <td>41356</td>\n",
       "      <td>Studio Signpost</td>\n",
       "      <td>pg_13</td>\n",
       "    </tr>\n",
       "    <tr>\n",
       "      <th>2148</th>\n",
       "      <td>53033</td>\n",
       "      <td>Mecha-ude (TV)</td>\n",
       "      <td>Mecha-Ude: Mechanical Arms</td>\n",
       "      <td>tv</td>\n",
       "      <td>currently_airing</td>\n",
       "      <td>Fall 2024</td>\n",
       "      <td>Action, Sci-Fi</td>\n",
       "      <td>7.07</td>\n",
       "      <td>5015</td>\n",
       "      <td>39806</td>\n",
       "      <td>TriF Studio</td>\n",
       "      <td>pg_13</td>\n",
       "    </tr>\n",
       "    <tr>\n",
       "      <th>2149</th>\n",
       "      <td>40333</td>\n",
       "      <td>Uzumaki</td>\n",
       "      <td>Uzumaki: Spiral into Horror</td>\n",
       "      <td>tv</td>\n",
       "      <td>finished_airing</td>\n",
       "      <td>Fall 2024</td>\n",
       "      <td>Avant Garde, Drama, Horror, Psychological, Sei...</td>\n",
       "      <td>5.95</td>\n",
       "      <td>47791</td>\n",
       "      <td>219801</td>\n",
       "      <td>Akatsuki, Fugaku</td>\n",
       "      <td>r</td>\n",
       "    </tr>\n",
       "  </tbody>\n",
       "</table>\n",
       "<p>2150 rows × 12 columns</p>\n",
       "</div>"
      ],
      "text/plain": [
       "         ID                               Title  \\\n",
       "0      2471                     Doraemon (1979)   \n",
       "1       813                       Dragon Ball Z   \n",
       "2       966                    Crayon Shin-chan   \n",
       "3       170                           Slam Dunk   \n",
       "4       103                     Akazukin Chacha   \n",
       "...     ...                                 ...   \n",
       "2145  56228  Rekishi ni Nokoru Akujo ni Naru zo   \n",
       "2146  57102   Houkago Shounen Hanako-kun Part 2   \n",
       "2147  54726         Tsuma, Shougakusei ni Naru.   \n",
       "2148  53033                      Mecha-ude (TV)   \n",
       "2149  40333                             Uzumaki   \n",
       "\n",
       "                                 Alternative Title (en) Media Type  \\\n",
       "0                                              Doraemon         tv   \n",
       "1                                         Dragon Ball Z         tv   \n",
       "2                                             Shin Chan         tv   \n",
       "3                                             Slam Dunk         tv   \n",
       "4                                Red Riding Hood Chacha         tv   \n",
       "...                                                 ...        ...   \n",
       "2145  I'll Become a Villainess Who Goes Down in History         tv   \n",
       "2146                     After-School Hanako-kun Part 2         tv   \n",
       "2147                                           TsumaSho         tv   \n",
       "2148                         Mecha-Ude: Mechanical Arms         tv   \n",
       "2149                        Uzumaki: Spiral into Horror         tv   \n",
       "\n",
       "                Status Premiered Season  \\\n",
       "0      finished_airing      Spring 1979   \n",
       "1      finished_airing      Spring 1989   \n",
       "2     currently_airing      Spring 1992   \n",
       "3      finished_airing        Fall 1993   \n",
       "4      finished_airing      Winter 1994   \n",
       "...                ...              ...   \n",
       "2145  currently_airing        Fall 2024   \n",
       "2146   finished_airing        Fall 2024   \n",
       "2147  currently_airing        Fall 2024   \n",
       "2148  currently_airing        Fall 2024   \n",
       "2149   finished_airing        Fall 2024   \n",
       "\n",
       "                                                 Genres  User Score  \\\n",
       "0     Adventure, Anthropomorphic, Comedy, Fantasy, K...        7.86   \n",
       "1     Action, Adventure, Comedy, Fantasy, Martial Ar...        8.19   \n",
       "2                         Comedy, Ecchi, School, Seinen        7.80   \n",
       "3                  School, Shounen, Sports, Team Sports        8.55   \n",
       "4     Adventure, Comedy, Fantasy, Mahou Shoujo, Roma...        7.41   \n",
       "...                                                 ...         ...   \n",
       "2145  Comedy, Fantasy, Isekai, Romance, Shoujo, Vill...        7.06   \n",
       "2146                       Comedy, School, Supernatural        7.02   \n",
       "2147             Comedy, Reincarnation, Romance, Seinen        7.23   \n",
       "2148                                     Action, Sci-Fi        7.07   \n",
       "2149  Avant Garde, Drama, Horror, Psychological, Sei...        5.95   \n",
       "\n",
       "      Number of Ratings  Number of Members            Studios Rating  \n",
       "0                 39342              66089  Shin-Ei Animation     pg  \n",
       "1                863786            1258233     Toei Animation  pg_13  \n",
       "2                 41800              87019  Shin-Ei Animation      g  \n",
       "3                141218             312658     Toei Animation  pg_13  \n",
       "4                  6075              16889             Gallop      g  \n",
       "...                 ...                ...                ...    ...  \n",
       "2145               8835              61849          Maho Film  pg_13  \n",
       "2146               5245              29133             Lerche  pg_13  \n",
       "2147               5155              41356    Studio Signpost  pg_13  \n",
       "2148               5015              39806        TriF Studio  pg_13  \n",
       "2149              47791             219801   Akatsuki, Fugaku      r  \n",
       "\n",
       "[2150 rows x 12 columns]"
      ]
     },
     "execution_count": 21,
     "metadata": {},
     "output_type": "execute_result"
    }
   ],
   "source": [
    "anime_data = pd.read_csv('./data/anime_data_cleaned.csv')\n",
    "\n",
    "# Check dataset\n",
    "anime_data"
   ]
  },
  {
   "cell_type": "markdown",
   "id": "565c0ccb-638f-400a-9a35-581a6ae6a428",
   "metadata": {},
   "source": [
    "### Correlation matrix (for numerical data columns)\n",
    "- **Purpose**:"
   ]
  },
  {
   "cell_type": "code",
   "execution_count": 22,
   "id": "96acc699-128c-45e7-9b43-394a32545322",
   "metadata": {},
   "outputs": [
    {
     "name": "stdout",
     "output_type": "stream",
     "text": [
      "Correlation Matrix:\n",
      "                         ID  User Score  Number of Ratings  Number of Members\n",
      "ID                 1.000000    0.246411           0.092766           0.111424\n",
      "User Score         0.246411    1.000000           0.412601           0.443590\n",
      "Number of Ratings  0.092766    0.412601           1.000000           0.990175\n",
      "Number of Members  0.111424    0.443590           0.990175           1.000000\n"
     ]
    }
   ],
   "source": [
    "# Compute the correlation matrix for numeric columns\n",
    "correlation_matrix = anime_data.corr(numeric_only=True)\n",
    "\n",
    "# Display the correlation matrix\n",
    "print(\"Correlation Matrix:\")\n",
    "print(correlation_matrix)"
   ]
  },
  {
   "cell_type": "markdown",
   "id": "ba562813-7ed5-4b4f-9bd0-22311d8129a5",
   "metadata": {},
   "source": [
    "#### Visualization"
   ]
  },
  {
   "cell_type": "code",
   "execution_count": 23,
   "id": "fd126fa1-4376-4e6e-a9c6-3ab7ec2c781a",
   "metadata": {},
   "outputs": [
    {
     "data": {
      "image/png": "[encoded data removed]",
      "text/plain": [
       "<Figure size 1200x800 with 2 Axes>"
      ]
     },
     "metadata": {},
     "output_type": "display_data"
    }
   ],
   "source": [
    "# Visualize\n",
    "plt.figure(figsize=(12, 8))\n",
    "sns.heatmap(correlation_matrix, annot=True, fmt=\".3f\", cmap='viridis') # Customization\n",
    "plt.title(\"Correlation Matrix Heatmap\")\n",
    "plt.show()"
   ]
  },
  {
   "cell_type": "markdown",
   "id": "556d4329-07e4-4b65-aab4-c01721ff2fad",
   "metadata": {},
   "source": [
    "#### Comments"
   ]
  },
  {
   "cell_type": "markdown",
   "id": "77564455-96f0-43ce-81b1-10cc298f2214",
   "metadata": {},
   "source": [
    "- **ID:** Weak correlation with all other variables (values close to 0):    \n",
    "    - User Score: 0.251 (low positive correlation).\n",
    "    - Number of Ratings: 0.094 (very weak correlation).\n",
    "    - Number of Members: 0.112 (very weak correlation).\n",
    "\n",
    "$\\rightarrow$ The ID column is likely just a unique identifier and does not contribute significantly to meaningful relationships.\n",
    "- **User Score:** Moderate positive correlation with:\n",
    "    - Number of Ratings: 0.413.\n",
    "    - Number of Members: 0.444.\n",
    "\n",
    "$\\rightarrow$ Higher User Scores tend to be associated with a moderate increase in the number of ratings and members, but the relationship is not strong.\n",
    "- **Number of Ratings** and **Number of Members** have strong positive correlation (0.990).\n",
    "\n",
    "$\\rightarrow$ It suggests that anime with a high number of ratings also tend to have a high number of members. This relationship is intuitive as more popular anime are likely to be rated by a larger audience."
   ]
  },
  {
   "cell_type": "markdown",
   "id": "2ca490b3-e0b8-4482-892e-c8b0b4b3a205",
   "metadata": {},
   "source": [
    "#### Conclusion"
   ]
  },
  {
   "cell_type": "markdown",
   "id": "956b0286-0b9e-425b-8bd0-168ef7800db7",
   "metadata": {},
   "source": [
    "- The **ID** column does not show significant correlations with other columns, indicating that it serves as an identifier rather than a meaningful feature (apparently).\n",
    "- **Number of Ratings** and **Number of Members** are highly correlated. This indicates that these features are closely related, reflecting the anime's overall popularity.\n",
    "- **User Score** has a moderate relationship with both **Number of Ratings** and **Number of Members**, suggesting that popular anime tend to have slightly higher user scores."
   ]
  },
  {
   "cell_type": "markdown",
   "id": "ee1d5cc3-7d77-48cf-96c5-e425061960f6",
   "metadata": {},
   "source": [
    "### Distribution\n",
    "- **Purpose**:\n",
    "- We will skip column **ID**, **Title**, and **Alternative Title (en)** (it makes no sense to get the distribution of these columns)."
   ]
  },
  {
   "cell_type": "markdown",
   "id": "bc5c3458-db2c-42ed-9040-04d3762e1ebd",
   "metadata": {},
   "source": [
    "#### Column 'Media Type'"
   ]
  },
  {
   "cell_type": "code",
   "execution_count": 24,
   "id": "e39cdf8d-5a29-457d-8601-8655197aa4f6",
   "metadata": {},
   "outputs": [
    {
     "name": "stdout",
     "output_type": "stream",
     "text": [
      "Value distribution for column: Media Type\n",
      "tv       1668\n",
      "movie     482\n",
      "Name: Media Type, dtype: int64\n"
     ]
    }
   ],
   "source": [
    "value_counts = anime_data['Media Type'].value_counts()\n",
    "\n",
    "# Show distribution\n",
    "print('Value distribution for column: Media Type')\n",
    "print(value_counts)"
   ]
  },
  {
   "cell_type": "code",
   "execution_count": 25,
   "id": "d074ad6e-d2af-4d49-b4ec-6445b4989b67",
   "metadata": {},
   "outputs": [
    {
     "data": {
      "image/png": "[encoded data removed]",
      "text/plain": [
       "<Figure size 1000x600 with 1 Axes>"
      ]
     },
     "metadata": {},
     "output_type": "display_data"
    }
   ],
   "source": [
    "# Visualize\n",
    "sns.set(style=\"whitegrid\")\n",
    "plt.figure(figsize=(10, 6))\n",
    "sns.barplot(\n",
    "    x=value_counts.values,\n",
    "    y=value_counts.index,\n",
    "    palette='viridis',\n",
    "    hue=value_counts.index,\n",
    "    legend=False\n",
    ")\n",
    "plt.title(\"Value Distribution for Media Type\")\n",
    "plt.xlabel(\"Count\")\n",
    "plt.ylabel(\"Media Type\")\n",
    "\n",
    "plt.tight_layout()\n",
    "plt.show()"
   ]
  },
  {
   "cell_type": "markdown",
   "id": "22e8bff7-8bb0-4f5d-aab7-5998c42a8861",
   "metadata": {},
   "source": [
    "#### Column 'Status'"
   ]
  },
  {
   "cell_type": "code",
   "execution_count": 26,
   "id": "083c158b-74c5-41b6-a393-a2c5b8aa0b41",
   "metadata": {},
   "outputs": [
    {
     "name": "stdout",
     "output_type": "stream",
     "text": [
      "Value distribution for column: Status\n",
      "finished_airing     2115\n",
      "currently_airing      35\n",
      "Name: Status, dtype: int64\n"
     ]
    }
   ],
   "source": [
    "value_counts = anime_data['Status'].value_counts()\n",
    "\n",
    "# Show distribution\n",
    "print('Value distribution for column: Status')\n",
    "print(value_counts)"
   ]
  },
  {
   "cell_type": "code",
   "execution_count": 27,
   "id": "9fc241a2-5480-4113-bf90-071329b5aaff",
   "metadata": {},
   "outputs": [
    {
     "data": {
      "image/png": "[encoded data removed]",
      "text/plain": [
       "<Figure size 1000x600 with 1 Axes>"
      ]
     },
     "metadata": {},
     "output_type": "display_data"
    }
   ],
   "source": [
    "# Visualize\n",
    "plt.figure(figsize=(10, 6))\n",
    "sns.barplot(\n",
    "    x=value_counts.values,\n",
    "    y=value_counts.index,\n",
    "    palette='viridis',\n",
    "    hue=value_counts.index,\n",
    "    legend=False\n",
    ")\n",
    "plt.title(\"Value Distribution for Status\")\n",
    "plt.xlabel(\"Count\")\n",
    "plt.ylabel(\"Status\")\n",
    "\n",
    "plt.tight_layout()\n",
    "plt.show()"
   ]
  },
  {
   "cell_type": "markdown",
   "id": "19c2e290-3fb9-4583-8152-3d3cd1a1f716",
   "metadata": {},
   "source": [
    "#### Column 'Premiered Season'\n",
    "- With this column, we will use Line chart for visualization, because of the large size of value set."
   ]
  },
  {
   "cell_type": "code",
   "execution_count": 28,
   "id": "24c26723-9c71-4ac4-a4e2-a2bc5f18f338",
   "metadata": {},
   "outputs": [
    {
     "name": "stdout",
     "output_type": "stream",
     "text": [
      "Value distribution for column: Premiered Season\n",
      "finished_airing     2115\n",
      "currently_airing      35\n",
      "Name: Status, dtype: int64\n"
     ]
    }
   ],
   "source": [
    "premiered_counts = anime_data['Premiered Season'].value_counts()\n",
    "\n",
    "print('Value distribution for column: Premiered Season')\n",
    "print(value_counts)"
   ]
  },
  {
   "cell_type": "code",
   "execution_count": 29,
   "id": "2fd7be71-290f-4ccf-9495-546a5e22d917",
   "metadata": {},
   "outputs": [],
   "source": [
    "# Preprocessing\n",
    "def season_to_datetime(season):\n",
    "    season_map = {'Winter': 1, 'Spring': 4, 'Summer': 7, 'Fall': 10}\n",
    "    season_name, year = season.split()\n",
    "    return pd.Timestamp(year=int(year), month=season_map[season_name], day=1)\n",
    "\n",
    "# Sort Premiered Season by time order\n",
    "premiered_counts = premiered_counts.rename_axis('Premiered Season').reset_index(name='Count')\n",
    "premiered_counts['Date'] = premiered_counts['Premiered Season'].apply(season_to_datetime)\n",
    "premiered_counts = premiered_counts.sort_values('Date')"
   ]
  },
  {
   "cell_type": "code",
   "execution_count": 30,
   "id": "83cc6a38-6fec-45b4-aa6d-7c45b618424f",
   "metadata": {},
   "outputs": [
    {
     "data": {
      "image/png": "[encoded data removed]",
      "text/plain": [
       "<Figure size 2200x600 with 1 Axes>"
      ]
     },
     "metadata": {},
     "output_type": "display_data"
    }
   ],
   "source": [
    "# Visualize\n",
    "plt.figure(figsize=(22, 6))\n",
    "sns.lineplot(\n",
    "    x='Date',\n",
    "    y='Count',\n",
    "    data=premiered_counts,\n",
    "    marker='o',\n",
    "    linewidth=2,\n",
    "    color='blue'\n",
    ")\n",
    "plt.title(\"Value Distribution for Premiered Season\", fontsize=16)\n",
    "plt.xlabel(\"Season\", fontsize=14)\n",
    "plt.ylabel(\"Count\", fontsize=14)\n",
    "plt.xticks(rotation=45, ha='right', fontsize=10)\n",
    "plt.grid(axis='y', linestyle='--', alpha=0.7)\n",
    "\n",
    "plt.tight_layout()\n",
    "plt.show()"
   ]
  },
  {
   "cell_type": "markdown",
   "id": "c4a42336-10f6-46ae-9b6e-d8463491b35f",
   "metadata": {},
   "source": [
    "#### Column 'Genres'\n",
    "- With this column, we only consider included genres (check the list below)."
   ]
  },
  {
   "cell_type": "code",
   "execution_count": 31,
   "id": "c4b7f306-20da-4f9b-9178-221e4a0543bd",
   "metadata": {},
   "outputs": [],
   "source": [
    "# Included genres list\n",
    "included_genres = [\n",
    "    'action', 'adventure', 'comedy', 'drama', 'fantasy',\n",
    "    'mystery', 'romance', 'sci-fi', 'slice of life', 'sports'\n",
    "]"
   ]
  },
  {
   "cell_type": "code",
   "execution_count": 32,
   "id": "14f12b17-9e5c-448c-9991-694ebf91328d",
   "metadata": {},
   "outputs": [
    {
     "name": "stdout",
     "output_type": "stream",
     "text": [
      "Value distribution for column: Genres\n",
      "action           912\n",
      "comedy           750\n",
      "fantasy          616\n",
      "drama            599\n",
      "adventure        539\n",
      "romance          472\n",
      "sci-fi           449\n",
      "mystery          257\n",
      "slice of life    129\n",
      "sports           125\n",
      "Name: Genres, dtype: int64\n"
     ]
    }
   ],
   "source": [
    "value_counts = (\n",
    "    anime_data['Genres']\n",
    "    .str.split(', ')\n",
    "    .explode()\n",
    "    .str.lower()\n",
    "    .value_counts()\n",
    "    .loc[included_genres]\n",
    "    .sort_values(ascending=False)\n",
    ")\n",
    "\n",
    "# Show distribution\n",
    "print('Value distribution for column: Genres')\n",
    "print(value_counts)"
   ]
  },
  {
   "cell_type": "code",
   "execution_count": 33,
   "id": "c23812b7-b136-4309-83af-d9a3c0a0030a",
   "metadata": {},
   "outputs": [
    {
     "data": {
      "image/png": "[encoded data removed]",
      "text/plain": [
       "<Figure size 1200x600 with 1 Axes>"
      ]
     },
     "metadata": {},
     "output_type": "display_data"
    }
   ],
   "source": [
    "# Visualize\n",
    "plt.figure(figsize=(12, 6))\n",
    "sns.barplot(\n",
    "    x=value_counts.values,\n",
    "    y=value_counts.index,\n",
    "    palette='viridis',\n",
    "    hue=value_counts.index,  # Assign y to hue\n",
    "    legend=False  # Suppress legend\n",
    ")\n",
    "plt.title(\"Value Distribution for Genres\")\n",
    "plt.xlabel(\"Count\")\n",
    "plt.ylabel(\"Genre\")\n",
    "\n",
    "plt.tight_layout()\n",
    "plt.show()"
   ]
  },
  {
   "cell_type": "markdown",
   "id": "d5c0c347-83c3-4859-8d49-7133beb26b3c",
   "metadata": {},
   "source": [
    "#### Column 'User Score'\n",
    "- With this column, we will apply basic statistics and visualize its distribution (approximately).\n",
    "- Calculate these following metrics:\n",
    "    - Mean.\n",
    "    - Median.\n",
    "    - Mode.\n",
    "    - Min and Max (Range).\n",
    "    - First quartile (Q1).\n",
    "    - Third quartile (Q3).\n",
    "- Draw the distribution using a histogram and overlay a kernel density estimation (KDE, [reference here](https://en.wikipedia.org/wiki/Kernel_density_estimation)) curve."
   ]
  },
  {
   "cell_type": "code",
   "execution_count": 34,
   "id": "e572cb4a-6619-406a-875f-54722233e70a",
   "metadata": {},
   "outputs": [
    {
     "name": "stdout",
     "output_type": "stream",
     "text": [
      "Statistics for User Score:\n",
      "Mean: 7.57\n",
      "Median: 7.55\n",
      "Mode: 7.53\n",
      "Min: 5.73\n",
      "Max: 9.32\n",
      "First Quartile (Q1): 7.20\n",
      "Third Quartile (Q3): 7.93\n"
     ]
    }
   ],
   "source": [
    "user_scores = anime_data['User Score']\n",
    "\n",
    "# Calculate statistics\n",
    "mean_score = user_scores.mean()\n",
    "median_score = user_scores.median()\n",
    "mode_score = user_scores.mode()[0] # In this case, mode has only one\n",
    "# Range\n",
    "max_score = user_scores.max()\n",
    "min_score = user_scores.min()\n",
    "q1 = user_scores.quantile(0.25)  # First Quartile (Q1)\n",
    "q3 = user_scores.quantile(0.75)  # Third Quartile (Q3)\n",
    "\n",
    "# Show the statistics\n",
    "print(\"Statistics for User Score:\")\n",
    "print(f\"Mean: {mean_score:.2f}\")\n",
    "print(f\"Median: {median_score:.2f}\")\n",
    "print(f\"Mode: {mode_score:.2f}\")\n",
    "print(f\"Min: {min_score:.2f}\")\n",
    "print(f\"Max: {max_score:.2f}\")\n",
    "print(f\"First Quartile (Q1): {q1:.2f}\")\n",
    "print(f\"Third Quartile (Q3): {q3:.2f}\")"
   ]
  },
  {
   "cell_type": "code",
   "execution_count": 35,
   "id": "d0d2a02e-1e44-4dba-b3bf-19663301c71c",
   "metadata": {},
   "outputs": [
    {
     "data": {
      "image/png": "[encoded data removed]",
      "text/plain": [
       "<Figure size 1200x600 with 1 Axes>"
      ]
     },
     "metadata": {},
     "output_type": "display_data"
    }
   ],
   "source": [
    "# Plot the distribution\n",
    "plt.figure(figsize=(12, 6))\n",
    "sns.histplot(user_scores, kde=True, bins=30, color='blue', edgecolor='black', alpha=0.7)\n",
    "plt.axvline(mean_score, color='red', linestyle='--', label=f'Mean: {mean_score:.2f}')\n",
    "plt.axvline(median_score, color='green', linestyle='-', label=f'Median: {median_score:.2f}')\n",
    "plt.axvline(q1, color='purple', linestyle=':', label=f'Q1: {q1:.2f}')\n",
    "plt.axvline(q3, color='orange', linestyle=':', label=f'Q3: {q3:.2f}')\n",
    "plt.title(\"Distribution of User Score\", fontsize=16)\n",
    "plt.xlabel(\"User Score\", fontsize=14)\n",
    "plt.ylabel(\"Frequency\", fontsize=14)\n",
    "\n",
    "plt.legend()\n",
    "plt.tight_layout()\n",
    "plt.show()"
   ]
  },
  {
   "cell_type": "markdown",
   "id": "f02bfa97-5127-46b5-941b-fe832541fe0a",
   "metadata": {},
   "source": [
    "##### Comments:"
   ]
  },
  {
   "cell_type": "markdown",
   "id": "1824950d-1a63-451a-8969-1aaaf94891e2",
   "metadata": {},
   "source": [
    "- The **mean** (7.57), **median** (7.55), and **mode** (7.53) values are approximately equal.\n",
    "- The distance between the **first quartile** (7.20) and the **median** (7.55), as well as the **minimum value** (5.73) is approximately equal to the distance between the **third quartile** (7.93) and the **median**, as well as the **maximum value** (9.32).\n",
    "\n",
    "$\\rightarrow$ This distribution is approximately **Normal Distribution** $\\rightarrow$ The dataset is highly reliable. "
   ]
  },
  {
   "cell_type": "markdown",
   "id": "a9fbaa9c-1162-4ecb-b49b-bc9acc7fffed",
   "metadata": {},
   "source": [
    "#### Column 'Number of Ratings'"
   ]
  },
  {
   "cell_type": "markdown",
   "id": "7b89827a-4d13-4b20-9b85-3614c9b038db",
   "metadata": {},
   "source": [
    "- With this column, we will only apply basic statistics and not visualize its distribution, because, for this attribute, we only need to roughly capture the number of ratings rather than considering the entire set of values.\n",
    "- Calculate these following metrics:\n",
    "    - Mean.\n",
    "    - Min and Max (Range)."
   ]
  },
  {
   "cell_type": "code",
   "execution_count": 36,
   "id": "9fa2999f-8b5c-4ec9-bc62-ab5a2ce96617",
   "metadata": {},
   "outputs": [
    {
     "name": "stdout",
     "output_type": "stream",
     "text": [
      "Statistics for Number of Ratings:\n",
      "Mean: 158248.29\n",
      "Min: 5001\n",
      "Max: 2870898\n"
     ]
    }
   ],
   "source": [
    "# Calculate statistics\n",
    "mean_score = anime_data['Number of Ratings'].mean()\n",
    "# Range\n",
    "max_score = anime_data['Number of Ratings'].max()\n",
    "min_score = anime_data['Number of Ratings'].min()\n",
    "\n",
    "# Show the statistics\n",
    "print(\"Statistics for Number of Ratings:\")\n",
    "print(f\"Mean: {mean_score:.2f}\")\n",
    "print(f\"Min: {min_score:.0f}\")\n",
    "print(f\"Max: {max_score:.0f}\")"
   ]
  },
  {
   "cell_type": "markdown",
   "id": "f8c0a4de-edb3-441b-9c11-00275e62be28",
   "metadata": {},
   "source": [
    "#### Column 'Number of Members'"
   ]
  },
  {
   "cell_type": "markdown",
   "id": "7b5eb37d-b1a6-4ce4-a097-4e70c17d8ee8",
   "metadata": {},
   "source": [
    "- Similar to **Number of Ratings** column, we will only apply basic statistics.\n",
    "- Calculate these following metrics:\n",
    "    - Mean.\n",
    "    - Min and Max (Range)."
   ]
  },
  {
   "cell_type": "code",
   "execution_count": 37,
   "id": "fe97678e-44a4-4d92-a468-3ef271d5f99c",
   "metadata": {},
   "outputs": [
    {
     "name": "stdout",
     "output_type": "stream",
     "text": [
      "Statistics for Number of Members:\n",
      "Mean: 297216.69\n",
      "Min: 10346\n",
      "Max: 4065518\n"
     ]
    }
   ],
   "source": [
    "# Calculate statistics\n",
    "mean_score = anime_data['Number of Members'].mean()\n",
    "# Range\n",
    "max_score = anime_data['Number of Members'].max()\n",
    "min_score = anime_data['Number of Members'].min()\n",
    "\n",
    "# Show the statistics\n",
    "print(\"Statistics for Number of Members:\")\n",
    "print(f\"Mean: {mean_score:.2f}\")\n",
    "print(f\"Min: {min_score:.0f}\")\n",
    "print(f\"Max: {max_score:.0f}\")"
   ]
  },
  {
   "cell_type": "markdown",
   "id": "c4f9f53f-751d-4047-96cc-39fe14c4e48a",
   "metadata": {},
   "source": [
    "#### Column 'Studios'\n",
    "- With this column, we will extract the top 10 studios that have produced the most anime for visualization."
   ]
  },
  {
   "cell_type": "code",
   "execution_count": 38,
   "id": "1079175a-e9ff-4a79-a222-de0b026e7226",
   "metadata": {},
   "outputs": [
    {
     "name": "stdout",
     "output_type": "stream",
     "text": [
      "List of studios by number of anime produced\n",
      "Toei Animation             114\n",
      "Madhouse                   111\n",
      "J.C.Staff                   97\n",
      "Production I.G              97\n",
      "Sunrise                     89\n",
      "                          ... \n",
      "Purple Cow Studio Japan      1\n",
      "Anima                        1\n",
      "CyberConnect2                1\n",
      "AIC Classic                  1\n",
      "Fugaku                       1\n",
      "Name: Studios, Length: 246, dtype: int64\n"
     ]
    }
   ],
   "source": [
    "# Split the Studios column into individual studios and count their occurrences\n",
    "value_counts = (\n",
    "    anime_data['Studios']\n",
    "    .str.split(', ')  \n",
    "    .explode()\n",
    "    .value_counts() \n",
    ")\n",
    "\n",
    "print('List of studios by number of anime produced')\n",
    "print(value_counts)"
   ]
  },
  {
   "cell_type": "code",
   "execution_count": 39,
   "id": "7751a93e-be37-46a6-9371-f7b69bd2bc1e",
   "metadata": {},
   "outputs": [
    {
     "data": {
      "text/plain": [
       "Toei Animation       114\n",
       "Madhouse             111\n",
       "J.C.Staff             97\n",
       "Production I.G        97\n",
       "Sunrise               89\n",
       "TMS Entertainment     84\n",
       "A-1 Pictures          83\n",
       "Studio Deen           73\n",
       "OLM                   65\n",
       "Pierrot               64\n",
       "Name: Studios, dtype: int64"
      ]
     },
     "execution_count": 39,
     "metadata": {},
     "output_type": "execute_result"
    }
   ],
   "source": [
    "# Extract the top 10 studios\n",
    "top_10_studios = value_counts.head(10)\n",
    "top_10_studios"
   ]
  },
  {
   "cell_type": "code",
   "execution_count": 40,
   "id": "139c646d-e5fa-4206-b563-3f0bf277b4aa",
   "metadata": {},
   "outputs": [
    {
     "data": {
      "image/png": "[encoded data removed]",
      "text/plain": [
       "<Figure size 1200x600 with 1 Axes>"
      ]
     },
     "metadata": {},
     "output_type": "display_data"
    }
   ],
   "source": [
    "# Visualize\n",
    "plt.figure(figsize=(12, 6))\n",
    "sns.barplot(\n",
    "    x=top_10_studios.values,\n",
    "    y=top_10_studios.index,\n",
    "    palette='Blues_r',\n",
    "    hue=top_10_studios.index, \n",
    "    legend=False\n",
    ")\n",
    "\n",
    "plt.title(\"Top 10 Studios Producing the Most Anime\", fontsize=16)\n",
    "plt.xlabel(\"Number of Anime Produced\", fontsize=14)\n",
    "plt.ylabel(\"Studios\", fontsize=14)\n",
    "plt.xticks(fontsize=12)\n",
    "plt.yticks(fontsize=12)\n",
    "\n",
    "plt.tight_layout()\n",
    "plt.show()"
   ]
  },
  {
   "cell_type": "markdown",
   "id": "37c86c64-cf19-4375-bc75-078e4ada277b",
   "metadata": {},
   "source": [
    "#### Column 'Rating'"
   ]
  },
  {
   "cell_type": "code",
   "execution_count": 41,
   "id": "b3e2d485-7d0c-4b1b-b063-dc95efe062ea",
   "metadata": {},
   "outputs": [
    {
     "name": "stdout",
     "output_type": "stream",
     "text": [
      "Value distribution for column: Rating\n",
      "pg_13    1396\n",
      "r         419\n",
      "g         121\n",
      "pg        109\n",
      "r+        105\n",
      "Name: Rating, dtype: int64\n"
     ]
    }
   ],
   "source": [
    "value_counts = anime_data['Rating'].value_counts()\n",
    "\n",
    "# Show distribution\n",
    "print('Value distribution for column: Rating')\n",
    "print(value_counts)"
   ]
  },
  {
   "cell_type": "code",
   "execution_count": 42,
   "id": "703ae095-1c2c-41f1-b43a-0552b5222a9f",
   "metadata": {},
   "outputs": [
    {
     "data": {
      "image/png": "[encoded data removed]",
      "text/plain": [
       "<Figure size 1400x600 with 1 Axes>"
      ]
     },
     "metadata": {},
     "output_type": "display_data"
    }
   ],
   "source": [
    "# Visualize\n",
    "plt.figure(figsize=(14, 6))\n",
    "sns.barplot(\n",
    "    x=value_counts.values,\n",
    "    y=value_counts.index,\n",
    "    palette='viridis',\n",
    "    hue=value_counts.index,\n",
    "    legend=False\n",
    ")\n",
    "plt.title(\"Value Distribution for Rating\")\n",
    "plt.xlabel(\"Count\")\n",
    "plt.ylabel(\"Rating\")\n",
    "\n",
    "plt.tight_layout()\n",
    "plt.show()"
   ]
  }
 ],
 "metadata": {
  "kernelspec": {
   "display_name": "Python 3 (ipykernel)",
   "language": "python",
   "name": "python3"
  },
  "language_info": {
   "codemirror_mode": {
    "name": "ipython",
    "version": 3
   },
   "file_extension": ".py",
   "mimetype": "text/x-python",
   "name": "python",
   "nbconvert_exporter": "python",
   "pygments_lexer": "ipython3",
   "version": "3.10.8"
  }
 },
 "nbformat": 4,
 "nbformat_minor": 5
}
