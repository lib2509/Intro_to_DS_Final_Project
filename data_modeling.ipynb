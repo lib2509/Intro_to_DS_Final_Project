{
 "cells": [
  {
   "cell_type": "markdown",
   "id": "385cbc2b-63d6-41b7-b881-02570b9c9cbc",
   "metadata": {},
   "source": [
    "# Data Modeling"
   ]
  },
  {
   "cell_type": "markdown",
   "id": "52b0bc2e-fa01-404e-8013-efebc9e0f4b4",
   "metadata": {},
   "source": [
    "## Frame the problem\n",
    "- Based on the **available** dataset, can we **predict** the **number of anime** for each **season** (```Premiered Season```)?\n",
    "- **Solution**: Build **regression** models to **fit** the data."
   ]
  },
  {
   "cell_type": "markdown",
   "id": "951704d3-a729-4d3d-b823-725f030ed113",
   "metadata": {},
   "source": [
    "## Import"
   ]
  },
  {
   "cell_type": "code",
   "execution_count": 1,
   "id": "1aa64b96-e9e5-4fb1-b979-99c5b31f3da7",
   "metadata": {},
   "outputs": [],
   "source": [
    "import pandas as pd # For handling and analyzing tabular data\n",
    "\n",
    "# For visualization\n",
    "import seaborn as sns\n",
    "import matplotlib.pyplot as plt\n",
    "\n",
    "import re # For validating and manipulating text\n",
    "import numpy as np # For numeric calculation\n",
    "\n",
    "# For modeling\n",
    "from sklearn.model_selection import train_test_split # Split train/valid/test dataset\n",
    "from sklearn.linear_model import LinearRegression # Linear model\n",
    "from sklearn.preprocessing import PolynomialFeatures # Polynomial regression model\n",
    "from sklearn.ensemble import RandomForestRegressor # Random Forest Regressor model\n",
    "from sklearn.ensemble import GradientBoostingRegressor # Gradient Boosting Regressor model\n",
    "from sklearn.model_selection import GridSearchCV # Hyperparameter tuning for Gradient Boosting Regressor\n",
    "from sklearn.metrics import mean_squared_error, r2_score # Evaluation metrics"
   ]
  },
  {
   "cell_type": "markdown",
   "id": "dc883ead-0963-4522-9160-ae2c5db9905a",
   "metadata": {},
   "source": [
    "## Read cleaned data from CSV file"
   ]
  },
  {
   "cell_type": "code",
   "execution_count": 2,
   "id": "20851bc0-84f3-4c0b-a380-4cf2076f07f0",
   "metadata": {},
   "outputs": [
    {
     "data": {
      "text/html": [
       "<div>\n",
       "<style scoped>\n",
       "    .dataframe tbody tr th:only-of-type {\n",
       "        vertical-align: middle;\n",
       "    }\n",
       "\n",
       "    .dataframe tbody tr th {\n",
       "        vertical-align: top;\n",
       "    }\n",
       "\n",
       "    .dataframe thead th {\n",
       "        text-align: right;\n",
       "    }\n",
       "</style>\n",
       "<table border=\"1\" class=\"dataframe\">\n",
       "  <thead>\n",
       "    <tr style=\"text-align: right;\">\n",
       "      <th></th>\n",
       "      <th>Media Type</th>\n",
       "      <th>Premiered Season</th>\n",
       "      <th>Genres</th>\n",
       "      <th>User Score</th>\n",
       "      <th>Number of Members</th>\n",
       "      <th>Studios</th>\n",
       "      <th>Rating</th>\n",
       "    </tr>\n",
       "  </thead>\n",
       "  <tbody>\n",
       "    <tr>\n",
       "      <th>0</th>\n",
       "      <td>tv</td>\n",
       "      <td>Spring 1979</td>\n",
       "      <td>Adventure, Anthropomorphic, Comedy, Fantasy, K...</td>\n",
       "      <td>7.86</td>\n",
       "      <td>66328</td>\n",
       "      <td>Shin-Ei Animation</td>\n",
       "      <td>pg</td>\n",
       "    </tr>\n",
       "    <tr>\n",
       "      <th>1</th>\n",
       "      <td>tv</td>\n",
       "      <td>Spring 1989</td>\n",
       "      <td>Action, Adventure, Comedy, Fantasy, Martial Ar...</td>\n",
       "      <td>8.19</td>\n",
       "      <td>1261770</td>\n",
       "      <td>Toei Animation</td>\n",
       "      <td>pg_13</td>\n",
       "    </tr>\n",
       "    <tr>\n",
       "      <th>2</th>\n",
       "      <td>tv</td>\n",
       "      <td>Spring 1992</td>\n",
       "      <td>Comedy, Ecchi, School, Seinen</td>\n",
       "      <td>7.80</td>\n",
       "      <td>87291</td>\n",
       "      <td>Shin-Ei Animation</td>\n",
       "      <td>g</td>\n",
       "    </tr>\n",
       "    <tr>\n",
       "      <th>3</th>\n",
       "      <td>tv</td>\n",
       "      <td>Fall 1993</td>\n",
       "      <td>School, Shounen, Sports, Team Sports</td>\n",
       "      <td>8.55</td>\n",
       "      <td>313954</td>\n",
       "      <td>Toei Animation</td>\n",
       "      <td>pg_13</td>\n",
       "    </tr>\n",
       "    <tr>\n",
       "      <th>4</th>\n",
       "      <td>tv</td>\n",
       "      <td>Winter 1994</td>\n",
       "      <td>Adventure, Comedy, Fantasy, Mahou Shoujo, Roma...</td>\n",
       "      <td>7.40</td>\n",
       "      <td>16950</td>\n",
       "      <td>Gallop</td>\n",
       "      <td>g</td>\n",
       "    </tr>\n",
       "    <tr>\n",
       "      <th>...</th>\n",
       "      <td>...</td>\n",
       "      <td>...</td>\n",
       "      <td>...</td>\n",
       "      <td>...</td>\n",
       "      <td>...</td>\n",
       "      <td>...</td>\n",
       "      <td>...</td>\n",
       "    </tr>\n",
       "    <tr>\n",
       "      <th>2324</th>\n",
       "      <td>tv</td>\n",
       "      <td>Fall 2024</td>\n",
       "      <td>Adult Cast, Drama, Seinen</td>\n",
       "      <td>7.03</td>\n",
       "      <td>18379</td>\n",
       "      <td>Madhouse</td>\n",
       "      <td>pg_13</td>\n",
       "    </tr>\n",
       "    <tr>\n",
       "      <th>2325</th>\n",
       "      <td>tv</td>\n",
       "      <td>Fall 2024</td>\n",
       "      <td>Action, Adventure, Fantasy, Harem, Isekai</td>\n",
       "      <td>7.36</td>\n",
       "      <td>139526</td>\n",
       "      <td>asread.</td>\n",
       "      <td>r</td>\n",
       "    </tr>\n",
       "    <tr>\n",
       "      <th>2326</th>\n",
       "      <td>tv</td>\n",
       "      <td>Fall 2024</td>\n",
       "      <td>Comedy, Romance</td>\n",
       "      <td>7.10</td>\n",
       "      <td>94185</td>\n",
       "      <td>Felix Film</td>\n",
       "      <td>pg_13</td>\n",
       "    </tr>\n",
       "    <tr>\n",
       "      <th>2327</th>\n",
       "      <td>tv</td>\n",
       "      <td>Fall 2024</td>\n",
       "      <td>Action, Adventure, Fantasy, Isekai</td>\n",
       "      <td>6.57</td>\n",
       "      <td>86450</td>\n",
       "      <td>Passione, Hayabusa Film</td>\n",
       "      <td>pg_13</td>\n",
       "    </tr>\n",
       "    <tr>\n",
       "      <th>2328</th>\n",
       "      <td>tv</td>\n",
       "      <td>Fall 2024</td>\n",
       "      <td>Action, Adult Cast, Mahou Shoujo, Shounen, Wor...</td>\n",
       "      <td>6.97</td>\n",
       "      <td>25429</td>\n",
       "      <td>J.C.Staff, Studio Moe</td>\n",
       "      <td>pg_13</td>\n",
       "    </tr>\n",
       "  </tbody>\n",
       "</table>\n",
       "<p>2329 rows × 7 columns</p>\n",
       "</div>"
      ],
      "text/plain": [
       "     Media Type Premiered Season  \\\n",
       "0            tv      Spring 1979   \n",
       "1            tv      Spring 1989   \n",
       "2            tv      Spring 1992   \n",
       "3            tv        Fall 1993   \n",
       "4            tv      Winter 1994   \n",
       "...         ...              ...   \n",
       "2324         tv        Fall 2024   \n",
       "2325         tv        Fall 2024   \n",
       "2326         tv        Fall 2024   \n",
       "2327         tv        Fall 2024   \n",
       "2328         tv        Fall 2024   \n",
       "\n",
       "                                                 Genres  User Score  \\\n",
       "0     Adventure, Anthropomorphic, Comedy, Fantasy, K...        7.86   \n",
       "1     Action, Adventure, Comedy, Fantasy, Martial Ar...        8.19   \n",
       "2                         Comedy, Ecchi, School, Seinen        7.80   \n",
       "3                  School, Shounen, Sports, Team Sports        8.55   \n",
       "4     Adventure, Comedy, Fantasy, Mahou Shoujo, Roma...        7.40   \n",
       "...                                                 ...         ...   \n",
       "2324                          Adult Cast, Drama, Seinen        7.03   \n",
       "2325          Action, Adventure, Fantasy, Harem, Isekai        7.36   \n",
       "2326                                    Comedy, Romance        7.10   \n",
       "2327                 Action, Adventure, Fantasy, Isekai        6.57   \n",
       "2328  Action, Adult Cast, Mahou Shoujo, Shounen, Wor...        6.97   \n",
       "\n",
       "      Number of Members                  Studios Rating  \n",
       "0                 66328        Shin-Ei Animation     pg  \n",
       "1               1261770           Toei Animation  pg_13  \n",
       "2                 87291        Shin-Ei Animation      g  \n",
       "3                313954           Toei Animation  pg_13  \n",
       "4                 16950                   Gallop      g  \n",
       "...                 ...                      ...    ...  \n",
       "2324              18379                 Madhouse  pg_13  \n",
       "2325             139526                  asread.      r  \n",
       "2326              94185               Felix Film  pg_13  \n",
       "2327              86450  Passione, Hayabusa Film  pg_13  \n",
       "2328              25429    J.C.Staff, Studio Moe  pg_13  \n",
       "\n",
       "[2329 rows x 7 columns]"
      ]
     },
     "execution_count": 2,
     "metadata": {},
     "output_type": "execute_result"
    }
   ],
   "source": [
    "anime_data = pd.read_csv('./data/anime_data_cleaned.csv')\n",
    "\n",
    "# Check\n",
    "anime_data"
   ]
  },
  {
   "cell_type": "markdown",
   "id": "df1b2d34-4b32-49da-a30f-452699cde414",
   "metadata": {},
   "source": [
    "## Extract features and choose factors for model\n",
    "- In the previous **analysis**, we identified and preliminarily evaluated the **relationship** between $2$ numerical features, ```User Score``` and ```Number of Members```, in relation to the **number of anime**.\n",
    "- We will conduct further in-depth analyses to **clarify** these **relationships** and determine the **importance** of these features to the **models**."
   ]
  },
  {
   "cell_type": "markdown",
   "id": "7f28baf2-a5d5-40af-b71d-52b3c9c0bd76",
   "metadata": {},
   "source": [
    "### Preprocess"
   ]
  },
  {
   "cell_type": "markdown",
   "id": "990a5b88-0ebd-44fb-a0d6-f2adf88f1bf6",
   "metadata": {},
   "source": [
    "- **Construct** a new DataFrame, and **keep** only necessary columns (```Premiered Season```, ```User Score```, and ```Number of Members```):"
   ]
  },
  {
   "cell_type": "code",
   "execution_count": 3,
   "id": "4c27e4f6-4a06-4690-b1c3-4635d44d0c34",
   "metadata": {},
   "outputs": [
    {
     "data": {
      "text/html": [
       "<div>\n",
       "<style scoped>\n",
       "    .dataframe tbody tr th:only-of-type {\n",
       "        vertical-align: middle;\n",
       "    }\n",
       "\n",
       "    .dataframe tbody tr th {\n",
       "        vertical-align: top;\n",
       "    }\n",
       "\n",
       "    .dataframe thead th {\n",
       "        text-align: right;\n",
       "    }\n",
       "</style>\n",
       "<table border=\"1\" class=\"dataframe\">\n",
       "  <thead>\n",
       "    <tr style=\"text-align: right;\">\n",
       "      <th></th>\n",
       "      <th>Premiered Season</th>\n",
       "      <th>User Score</th>\n",
       "      <th>Number of Members</th>\n",
       "    </tr>\n",
       "  </thead>\n",
       "  <tbody>\n",
       "    <tr>\n",
       "      <th>0</th>\n",
       "      <td>Spring 1979</td>\n",
       "      <td>7.86</td>\n",
       "      <td>66328</td>\n",
       "    </tr>\n",
       "    <tr>\n",
       "      <th>1</th>\n",
       "      <td>Spring 1989</td>\n",
       "      <td>8.19</td>\n",
       "      <td>1261770</td>\n",
       "    </tr>\n",
       "    <tr>\n",
       "      <th>2</th>\n",
       "      <td>Spring 1992</td>\n",
       "      <td>7.80</td>\n",
       "      <td>87291</td>\n",
       "    </tr>\n",
       "    <tr>\n",
       "      <th>3</th>\n",
       "      <td>Fall 1993</td>\n",
       "      <td>8.55</td>\n",
       "      <td>313954</td>\n",
       "    </tr>\n",
       "    <tr>\n",
       "      <th>4</th>\n",
       "      <td>Winter 1994</td>\n",
       "      <td>7.40</td>\n",
       "      <td>16950</td>\n",
       "    </tr>\n",
       "    <tr>\n",
       "      <th>...</th>\n",
       "      <td>...</td>\n",
       "      <td>...</td>\n",
       "      <td>...</td>\n",
       "    </tr>\n",
       "    <tr>\n",
       "      <th>2324</th>\n",
       "      <td>Fall 2024</td>\n",
       "      <td>7.03</td>\n",
       "      <td>18379</td>\n",
       "    </tr>\n",
       "    <tr>\n",
       "      <th>2325</th>\n",
       "      <td>Fall 2024</td>\n",
       "      <td>7.36</td>\n",
       "      <td>139526</td>\n",
       "    </tr>\n",
       "    <tr>\n",
       "      <th>2326</th>\n",
       "      <td>Fall 2024</td>\n",
       "      <td>7.10</td>\n",
       "      <td>94185</td>\n",
       "    </tr>\n",
       "    <tr>\n",
       "      <th>2327</th>\n",
       "      <td>Fall 2024</td>\n",
       "      <td>6.57</td>\n",
       "      <td>86450</td>\n",
       "    </tr>\n",
       "    <tr>\n",
       "      <th>2328</th>\n",
       "      <td>Fall 2024</td>\n",
       "      <td>6.97</td>\n",
       "      <td>25429</td>\n",
       "    </tr>\n",
       "  </tbody>\n",
       "</table>\n",
       "<p>2329 rows × 3 columns</p>\n",
       "</div>"
      ],
      "text/plain": [
       "     Premiered Season  User Score  Number of Members\n",
       "0         Spring 1979        7.86              66328\n",
       "1         Spring 1989        8.19            1261770\n",
       "2         Spring 1992        7.80              87291\n",
       "3           Fall 1993        8.55             313954\n",
       "4         Winter 1994        7.40              16950\n",
       "...               ...         ...                ...\n",
       "2324        Fall 2024        7.03              18379\n",
       "2325        Fall 2024        7.36             139526\n",
       "2326        Fall 2024        7.10              94185\n",
       "2327        Fall 2024        6.57              86450\n",
       "2328        Fall 2024        6.97              25429\n",
       "\n",
       "[2329 rows x 3 columns]"
      ]
     },
     "execution_count": 3,
     "metadata": {},
     "output_type": "execute_result"
    }
   ],
   "source": [
    "# Only keep necessary columns for further analysis\n",
    "modeling_data = anime_data[['Premiered Season', 'User Score', 'Number of Members']]\n",
    "\n",
    "# Check\n",
    "modeling_data"
   ]
  },
  {
   "cell_type": "markdown",
   "id": "fbcb6419-25c9-4e76-826e-400ec8a444ef",
   "metadata": {},
   "source": [
    "- **Restructuring** the dataset:\n",
    "    - ```Premiered Season```: Set as the index.\n",
    "    - ```User Score```: The average ```User Score``` by season (```Premiered Season```).\n",
    "    - ```Number of Members```: The average ```Number of Members``` by season."
   ]
  },
  {
   "cell_type": "code",
   "execution_count": 4,
   "id": "ac4be5c7-1bfc-40d3-97bb-1f023a6f9bda",
   "metadata": {},
   "outputs": [
    {
     "data": {
      "text/html": [
       "<div>\n",
       "<style scoped>\n",
       "    .dataframe tbody tr th:only-of-type {\n",
       "        vertical-align: middle;\n",
       "    }\n",
       "\n",
       "    .dataframe tbody tr th {\n",
       "        vertical-align: top;\n",
       "    }\n",
       "\n",
       "    .dataframe thead th {\n",
       "        text-align: right;\n",
       "    }\n",
       "</style>\n",
       "<table border=\"1\" class=\"dataframe\">\n",
       "  <thead>\n",
       "    <tr style=\"text-align: right;\">\n",
       "      <th></th>\n",
       "      <th>User Score</th>\n",
       "      <th>Number of Members</th>\n",
       "    </tr>\n",
       "    <tr>\n",
       "      <th>Premiered Season</th>\n",
       "      <th></th>\n",
       "      <th></th>\n",
       "    </tr>\n",
       "  </thead>\n",
       "  <tbody>\n",
       "    <tr>\n",
       "      <th>Spring 1979</th>\n",
       "      <td>7.86</td>\n",
       "      <td>66328.0</td>\n",
       "    </tr>\n",
       "    <tr>\n",
       "      <th>Spring 1989</th>\n",
       "      <td>8.19</td>\n",
       "      <td>1261770.0</td>\n",
       "    </tr>\n",
       "    <tr>\n",
       "      <th>Spring 1992</th>\n",
       "      <td>7.80</td>\n",
       "      <td>87291.0</td>\n",
       "    </tr>\n",
       "    <tr>\n",
       "      <th>Fall 1993</th>\n",
       "      <td>8.55</td>\n",
       "      <td>313954.0</td>\n",
       "    </tr>\n",
       "    <tr>\n",
       "      <th>Winter 1994</th>\n",
       "      <td>7.40</td>\n",
       "      <td>16950.0</td>\n",
       "    </tr>\n",
       "    <tr>\n",
       "      <th>...</th>\n",
       "      <td>...</td>\n",
       "      <td>...</td>\n",
       "    </tr>\n",
       "    <tr>\n",
       "      <th>Fall 2023</th>\n",
       "      <td>7.74</td>\n",
       "      <td>198753.0</td>\n",
       "    </tr>\n",
       "    <tr>\n",
       "      <th>Winter 2024</th>\n",
       "      <td>7.51</td>\n",
       "      <td>196860.0</td>\n",
       "    </tr>\n",
       "    <tr>\n",
       "      <th>Spring 2024</th>\n",
       "      <td>7.85</td>\n",
       "      <td>167159.0</td>\n",
       "    </tr>\n",
       "    <tr>\n",
       "      <th>Summer 2024</th>\n",
       "      <td>7.48</td>\n",
       "      <td>135379.0</td>\n",
       "    </tr>\n",
       "    <tr>\n",
       "      <th>Fall 2024</th>\n",
       "      <td>7.54</td>\n",
       "      <td>95973.0</td>\n",
       "    </tr>\n",
       "  </tbody>\n",
       "</table>\n",
       "<p>127 rows × 2 columns</p>\n",
       "</div>"
      ],
      "text/plain": [
       "                  User Score  Number of Members\n",
       "Premiered Season                               \n",
       "Spring 1979             7.86            66328.0\n",
       "Spring 1989             8.19          1261770.0\n",
       "Spring 1992             7.80            87291.0\n",
       "Fall 1993               8.55           313954.0\n",
       "Winter 1994             7.40            16950.0\n",
       "...                      ...                ...\n",
       "Fall 2023               7.74           198753.0\n",
       "Winter 2024             7.51           196860.0\n",
       "Spring 2024             7.85           167159.0\n",
       "Summer 2024             7.48           135379.0\n",
       "Fall 2024               7.54            95973.0\n",
       "\n",
       "[127 rows x 2 columns]"
      ]
     },
     "execution_count": 4,
     "metadata": {},
     "output_type": "execute_result"
    }
   ],
   "source": [
    "# Season order\n",
    "season_order = {'Winter': 1, 'Spring': 2, 'Summer': 3, 'Fall': 4}\n",
    "\n",
    "# Restructure dataset\n",
    "modeling_data = (\n",
    "    modeling_data.groupby('Premiered Season', as_index=True)\n",
    "    .agg({\n",
    "        'User Score': 'mean',       # Average User Score\n",
    "        'Number of Members': 'mean' # Average Number of Members\n",
    "    })\n",
    "    .round({'User Score': 2, 'Number of Members': 0}) # Round User Score and Number of Members\n",
    "    .reset_index() # Reset index to manipulate Premiered Season\n",
    "    .assign(\n",
    "        Year=lambda df: df['Premiered Season'].str.extract(r'(\\d{4})').astype(int),\n",
    "        Season_Order=lambda df: df['Premiered Season'].str.extract(r'(Winter|Spring|Summer|Fall)')[0].map(season_order)\n",
    "    )\n",
    "    .sort_values(by=['Year', 'Season_Order']) # Sort by Year and Season Order\n",
    "    .drop(columns=['Year', 'Season_Order']) # Drop temporary sorting columns\n",
    "    .set_index('Premiered Season') # Set Premiered Season back as the index\n",
    ")\n",
    "\n",
    "# Check\n",
    "modeling_data"
   ]
  },
  {
   "cell_type": "markdown",
   "id": "12734603-826c-4c88-80e3-9dd057f60707",
   "metadata": {},
   "source": [
    "- Create a **new column**: ```Number of Anime```. This column will indicate the **total number** of anime by **season** (```Premiered Season```):"
   ]
  },
  {
   "cell_type": "code",
   "execution_count": 5,
   "id": "a4d330b0-a564-402f-9783-297ba2e21a66",
   "metadata": {},
   "outputs": [
    {
     "data": {
      "text/html": [
       "<div>\n",
       "<style scoped>\n",
       "    .dataframe tbody tr th:only-of-type {\n",
       "        vertical-align: middle;\n",
       "    }\n",
       "\n",
       "    .dataframe tbody tr th {\n",
       "        vertical-align: top;\n",
       "    }\n",
       "\n",
       "    .dataframe thead th {\n",
       "        text-align: right;\n",
       "    }\n",
       "</style>\n",
       "<table border=\"1\" class=\"dataframe\">\n",
       "  <thead>\n",
       "    <tr style=\"text-align: right;\">\n",
       "      <th></th>\n",
       "      <th>User Score</th>\n",
       "      <th>Number of Members</th>\n",
       "      <th>Number of Anime</th>\n",
       "    </tr>\n",
       "    <tr>\n",
       "      <th>Premiered Season</th>\n",
       "      <th></th>\n",
       "      <th></th>\n",
       "      <th></th>\n",
       "    </tr>\n",
       "  </thead>\n",
       "  <tbody>\n",
       "    <tr>\n",
       "      <th>Spring 1979</th>\n",
       "      <td>7.86</td>\n",
       "      <td>66328.0</td>\n",
       "      <td>1</td>\n",
       "    </tr>\n",
       "    <tr>\n",
       "      <th>Spring 1989</th>\n",
       "      <td>8.19</td>\n",
       "      <td>1261770.0</td>\n",
       "      <td>1</td>\n",
       "    </tr>\n",
       "    <tr>\n",
       "      <th>Spring 1992</th>\n",
       "      <td>7.80</td>\n",
       "      <td>87291.0</td>\n",
       "      <td>1</td>\n",
       "    </tr>\n",
       "    <tr>\n",
       "      <th>Fall 1993</th>\n",
       "      <td>8.55</td>\n",
       "      <td>313954.0</td>\n",
       "      <td>1</td>\n",
       "    </tr>\n",
       "    <tr>\n",
       "      <th>Winter 1994</th>\n",
       "      <td>7.40</td>\n",
       "      <td>16950.0</td>\n",
       "      <td>1</td>\n",
       "    </tr>\n",
       "    <tr>\n",
       "      <th>...</th>\n",
       "      <td>...</td>\n",
       "      <td>...</td>\n",
       "      <td>...</td>\n",
       "    </tr>\n",
       "    <tr>\n",
       "      <th>Fall 2023</th>\n",
       "      <td>7.74</td>\n",
       "      <td>198753.0</td>\n",
       "      <td>20</td>\n",
       "    </tr>\n",
       "    <tr>\n",
       "      <th>Winter 2024</th>\n",
       "      <td>7.51</td>\n",
       "      <td>196860.0</td>\n",
       "      <td>25</td>\n",
       "    </tr>\n",
       "    <tr>\n",
       "      <th>Spring 2024</th>\n",
       "      <td>7.85</td>\n",
       "      <td>167159.0</td>\n",
       "      <td>25</td>\n",
       "    </tr>\n",
       "    <tr>\n",
       "      <th>Summer 2024</th>\n",
       "      <td>7.48</td>\n",
       "      <td>135379.0</td>\n",
       "      <td>22</td>\n",
       "    </tr>\n",
       "    <tr>\n",
       "      <th>Fall 2024</th>\n",
       "      <td>7.54</td>\n",
       "      <td>95973.0</td>\n",
       "      <td>36</td>\n",
       "    </tr>\n",
       "  </tbody>\n",
       "</table>\n",
       "<p>127 rows × 3 columns</p>\n",
       "</div>"
      ],
      "text/plain": [
       "                  User Score  Number of Members  Number of Anime\n",
       "Premiered Season                                                \n",
       "Spring 1979             7.86            66328.0                1\n",
       "Spring 1989             8.19          1261770.0                1\n",
       "Spring 1992             7.80            87291.0                1\n",
       "Fall 1993               8.55           313954.0                1\n",
       "Winter 1994             7.40            16950.0                1\n",
       "...                      ...                ...              ...\n",
       "Fall 2023               7.74           198753.0               20\n",
       "Winter 2024             7.51           196860.0               25\n",
       "Spring 2024             7.85           167159.0               25\n",
       "Summer 2024             7.48           135379.0               22\n",
       "Fall 2024               7.54            95973.0               36\n",
       "\n",
       "[127 rows x 3 columns]"
      ]
     },
     "execution_count": 5,
     "metadata": {},
     "output_type": "execute_result"
    }
   ],
   "source": [
    "# Add the Number of Anime column using Premiered Season\n",
    "modeling_data['Number of Anime'] = (\n",
    "    anime_data['Premiered Season']\n",
    "    .value_counts()\n",
    "    .reindex(modeling_data.index) # Align with the existing index\n",
    ")\n",
    "\n",
    "modeling_data"
   ]
  },
  {
   "cell_type": "markdown",
   "id": "dc34ff76-834f-4cfa-bc4b-249875948833",
   "metadata": {},
   "source": [
    "### Examine and analyze the correlation between features"
   ]
  },
  {
   "cell_type": "markdown",
   "id": "0115d290-615a-4392-8e5d-e245b9254353",
   "metadata": {},
   "source": [
    "- We will examine the **correlation** between ```Number of Anime``` and ```User Score``` as well as ```Number of Members``` from the **previous** season. This is simply because predicting the **number of anime** for the **current season** based on the ```User Score``` and ```Number of Members``` of that season is **meaningless**."
   ]
  },
  {
   "cell_type": "code",
   "execution_count": 6,
   "id": "f04bfb70-7918-4661-8d1f-8920775f1d40",
   "metadata": {},
   "outputs": [
    {
     "data": {
      "text/html": [
       "<div>\n",
       "<style scoped>\n",
       "    .dataframe tbody tr th:only-of-type {\n",
       "        vertical-align: middle;\n",
       "    }\n",
       "\n",
       "    .dataframe tbody tr th {\n",
       "        vertical-align: top;\n",
       "    }\n",
       "\n",
       "    .dataframe thead th {\n",
       "        text-align: right;\n",
       "    }\n",
       "</style>\n",
       "<table border=\"1\" class=\"dataframe\">\n",
       "  <thead>\n",
       "    <tr style=\"text-align: right;\">\n",
       "      <th></th>\n",
       "      <th>Number of Anime</th>\n",
       "      <th>User Score</th>\n",
       "      <th>Number of Members</th>\n",
       "    </tr>\n",
       "    <tr>\n",
       "      <th>Premiered Season</th>\n",
       "      <th></th>\n",
       "      <th></th>\n",
       "      <th></th>\n",
       "    </tr>\n",
       "  </thead>\n",
       "  <tbody>\n",
       "    <tr>\n",
       "      <th>Spring 1989</th>\n",
       "      <td>1</td>\n",
       "      <td>7.86</td>\n",
       "      <td>66328.0</td>\n",
       "    </tr>\n",
       "    <tr>\n",
       "      <th>Spring 1992</th>\n",
       "      <td>1</td>\n",
       "      <td>8.19</td>\n",
       "      <td>1261770.0</td>\n",
       "    </tr>\n",
       "    <tr>\n",
       "      <th>Fall 1993</th>\n",
       "      <td>1</td>\n",
       "      <td>7.80</td>\n",
       "      <td>87291.0</td>\n",
       "    </tr>\n",
       "    <tr>\n",
       "      <th>Winter 1994</th>\n",
       "      <td>1</td>\n",
       "      <td>8.55</td>\n",
       "      <td>313954.0</td>\n",
       "    </tr>\n",
       "    <tr>\n",
       "      <th>Spring 1994</th>\n",
       "      <td>4</td>\n",
       "      <td>7.40</td>\n",
       "      <td>16950.0</td>\n",
       "    </tr>\n",
       "    <tr>\n",
       "      <th>...</th>\n",
       "      <td>...</td>\n",
       "      <td>...</td>\n",
       "      <td>...</td>\n",
       "    </tr>\n",
       "    <tr>\n",
       "      <th>Fall 2023</th>\n",
       "      <td>20</td>\n",
       "      <td>7.60</td>\n",
       "      <td>212331.0</td>\n",
       "    </tr>\n",
       "    <tr>\n",
       "      <th>Winter 2024</th>\n",
       "      <td>25</td>\n",
       "      <td>7.74</td>\n",
       "      <td>198753.0</td>\n",
       "    </tr>\n",
       "    <tr>\n",
       "      <th>Spring 2024</th>\n",
       "      <td>25</td>\n",
       "      <td>7.51</td>\n",
       "      <td>196860.0</td>\n",
       "    </tr>\n",
       "    <tr>\n",
       "      <th>Summer 2024</th>\n",
       "      <td>22</td>\n",
       "      <td>7.85</td>\n",
       "      <td>167159.0</td>\n",
       "    </tr>\n",
       "    <tr>\n",
       "      <th>Fall 2024</th>\n",
       "      <td>36</td>\n",
       "      <td>7.48</td>\n",
       "      <td>135379.0</td>\n",
       "    </tr>\n",
       "  </tbody>\n",
       "</table>\n",
       "<p>126 rows × 3 columns</p>\n",
       "</div>"
      ],
      "text/plain": [
       "                  Number of Anime  User Score  Number of Members\n",
       "Premiered Season                                                \n",
       "Spring 1989                     1        7.86            66328.0\n",
       "Spring 1992                     1        8.19          1261770.0\n",
       "Fall 1993                       1        7.80            87291.0\n",
       "Winter 1994                     1        8.55           313954.0\n",
       "Spring 1994                     4        7.40            16950.0\n",
       "...                           ...         ...                ...\n",
       "Fall 2023                      20        7.60           212331.0\n",
       "Winter 2024                    25        7.74           198753.0\n",
       "Spring 2024                    25        7.51           196860.0\n",
       "Summer 2024                    22        7.85           167159.0\n",
       "Fall 2024                      36        7.48           135379.0\n",
       "\n",
       "[126 rows x 3 columns]"
      ]
     },
     "execution_count": 6,
     "metadata": {},
     "output_type": "execute_result"
    }
   ],
   "source": [
    "# Shift User Score and Number of Members columns (1 previous season)\n",
    "modeling_data['Previous User Score'] = modeling_data['User Score'].shift(1)\n",
    "modeling_data['Previous Number of Members'] = modeling_data['Number of Members'].shift(1)\n",
    "\n",
    "# Drop rows where shifted values are NaN (first row will have NaN due to shift)\n",
    "modeling_data = modeling_data.dropna(subset=['Previous User Score', 'Previous Number of Members'])\n",
    "\n",
    "# Drop unnecessary columns and rename Previous User Score and Previous Number of Members columns\n",
    "modeling_data = modeling_data.drop(columns=['User Score', 'Number of Members'])\n",
    "modeling_data = modeling_data.rename(columns={'Previous User Score': 'User Score', 'Previous Number of Members': 'Number of Members'})\n",
    "\n",
    "# Check\n",
    "modeling_data"
   ]
  },
  {
   "cell_type": "code",
   "execution_count": 7,
   "id": "c2e666a5-933e-4602-8476-1d7250019962",
   "metadata": {},
   "outputs": [
    {
     "data": {
      "text/html": [
       "<div>\n",
       "<style scoped>\n",
       "    .dataframe tbody tr th:only-of-type {\n",
       "        vertical-align: middle;\n",
       "    }\n",
       "\n",
       "    .dataframe tbody tr th {\n",
       "        vertical-align: top;\n",
       "    }\n",
       "\n",
       "    .dataframe thead th {\n",
       "        text-align: right;\n",
       "    }\n",
       "</style>\n",
       "<table border=\"1\" class=\"dataframe\">\n",
       "  <thead>\n",
       "    <tr style=\"text-align: right;\">\n",
       "      <th></th>\n",
       "      <th>Number of Anime</th>\n",
       "      <th>User Score</th>\n",
       "      <th>Number of Members</th>\n",
       "    </tr>\n",
       "  </thead>\n",
       "  <tbody>\n",
       "    <tr>\n",
       "      <th>Number of Anime</th>\n",
       "      <td>1.000000</td>\n",
       "      <td>0.102568</td>\n",
       "      <td>0.265141</td>\n",
       "    </tr>\n",
       "    <tr>\n",
       "      <th>User Score</th>\n",
       "      <td>0.102568</td>\n",
       "      <td>1.000000</td>\n",
       "      <td>0.609193</td>\n",
       "    </tr>\n",
       "    <tr>\n",
       "      <th>Number of Members</th>\n",
       "      <td>0.265141</td>\n",
       "      <td>0.609193</td>\n",
       "      <td>1.000000</td>\n",
       "    </tr>\n",
       "  </tbody>\n",
       "</table>\n",
       "</div>"
      ],
      "text/plain": [
       "                   Number of Anime  User Score  Number of Members\n",
       "Number of Anime           1.000000    0.102568           0.265141\n",
       "User Score                0.102568    1.000000           0.609193\n",
       "Number of Members         0.265141    0.609193           1.000000"
      ]
     },
     "execution_count": 7,
     "metadata": {},
     "output_type": "execute_result"
    }
   ],
   "source": [
    "# Check correlation\n",
    "corr = modeling_data.corr()\n",
    "corr"
   ]
  },
  {
   "cell_type": "code",
   "execution_count": 8,
   "id": "b1cb20b9-454c-41cf-99d4-889183a03da9",
   "metadata": {},
   "outputs": [
    {
     "data": {
      "image/png": "[encoded data removed]",
      "text/plain": [
       "<Figure size 800x600 with 2 Axes>"
      ]
     },
     "metadata": {},
     "output_type": "display_data"
    }
   ],
   "source": [
    "# Visualize by using heatmap\n",
    "plt.figure(figsize=(8, 6))\n",
    "sns.heatmap(corr, annot=True, cmap='coolwarm', fmt=\".2f\", linewidths=0.5)\n",
    "\n",
    "plt.title(\"Correlation Between Number of Anime and Features\", fontsize=14)\n",
    "plt.xticks(fontsize=12)\n",
    "plt.yticks(fontsize=12)\n",
    "\n",
    "plt.tight_layout()\n",
    "plt.show()"
   ]
  },
  {
   "cell_type": "markdown",
   "id": "c01174df-4e02-4abe-89bd-5a51804d6ca8",
   "metadata": {},
   "source": [
    "- **Comments**:\n",
    "    - The **correlation** between ```Number of Anime``` and ```User Score```, as well as ```Number of Members```, is **weak positive** ($\\approx 0.10$ and $\\approx 0.27$) $\\rightarrow$ Individual features are **hardly** able to **fully generalize** the ```Number of Anime```.\n",
    "    - The **correlation** between ```User Score``` and ```Number of Members``` is **moderately strong positive** ($\\approx 0.61$) $\\rightarrow$ **Strong enough** to consider removing one and **using only** the other in the model. However, since the current number of features is very **limited**, we still **need** to use **both** features.\n",
    "\n",
    "$\\rightarrow$ We will use the **two features**, ```User Score``` and ```Number of Members```, as the **main factors** for the model predicting the **Number of Anime** by season."
   ]
  },
  {
   "cell_type": "markdown",
   "id": "7583afc6-5b36-4f89-9fd5-ccd210930358",
   "metadata": {},
   "source": [
    "## Loss Function and Model Evaluation\n",
    "### Loss function\n",
    "- **Measure** how far off a model's predictions are from the actual values $\\rightarrow$ It is used during the **training process** to guide the model in learning.\n",
    "- In this project, we will only use the most common loss function, **Mean Squared Error** (MSE): Measures the **average squared difference** between the predicted and actual values.\n",
    "- Formula: $\\text{MSE} = \\frac{1}{n} \\sum_{i=1}^{n} \\left( y_i - \\hat{y}_i \\right)^2$, where:\n",
    "    - $n$: Number of data points.\n",
    "    - $y_i$: Actual value of the target variable.\n",
    "    - $\\hat{y}_i$: Predicted value of the target variable.\n",
    "\n",
    "### Model evaluation\n",
    "- **Evaluates** the explanatory power of a model after training, providing insight into how well the model fits the data.\n",
    "- In this project, we will only use $\\text{R}^2$ metric to measure the **proportion of the variance** in the target variable that is explained by the model.\n",
    "- Formula: $\\text{R}^2 = 1 - \\frac{\\text{SS}_\\text{res}}{\\text{SS}_\\text{tot}}$, where:\n",
    "    - $\\text{SS}_\\text{res} = \\sum (y_i - \\hat{y}_i)^2$: Residual sum of squares (**RSS**) (explains prediction errors).\n",
    "    - $SS_{\\text{tot}} = \\sum (y_i - \\overline{y})^2$: Total sum of squares (explains **variance** in actual values).\n",
    "- Interpretation:\n",
    "    - $\\text{R}^2 = 1$: **Perfect** model (explains 100% of the variance).\n",
    "    - $\\text{R}^2 \\leq 0$: The model performs **no better** or **worse** than simply using the mean of $y$ as the prediction (useless)."
   ]
  },
  {
   "cell_type": "markdown",
   "id": "0f68ccd4-87eb-49da-ae74-e5872a4d4aa9",
   "metadata": {},
   "source": [
    "## Split train/validation/test dataset\n",
    "Our dataset **contains** only 126 samples (a **relatively small** number). Therefore, to **improve** the **performance** of the models, we will **split** the original dataset as follows:\n",
    "- For regression models **without** hyperparameters (e.g., linear model): Train: $90 \\%$, Test: $10 \\%$.\n",
    "- For regression models **with** hyperparameters (e.g., polynomial, random forest regressor, etc.): Train: $80 \\%$, Validation: $10 \\%$, Test: $10 \\%$. "
   ]
  },
  {
   "cell_type": "markdown",
   "id": "dd3f9c8c-4b37-426f-a31c-160319f0084c",
   "metadata": {},
   "source": [
    "## Linear Regression\n",
    "- Model: $\\text{Number of Anime} = a \\cdot \\text{User Score} + b \\cdot \\text{Number of Members} + c\\ (a, b, c \\in R)$\n",
    "- For **Linear Regression**, since there are **no hyperparameters**, we will only **split** the dataset into **two** parts: Train ($90 \\%$) and Test ($10 \\%$)."
   ]
  },
  {
   "cell_type": "code",
   "execution_count": 9,
   "id": "30d3d2f6-7f13-4271-975d-97d139fd0459",
   "metadata": {},
   "outputs": [
    {
     "name": "stdout",
     "output_type": "stream",
     "text": [
      "MSE: 51.34, R²: 0.23\n"
     ]
    }
   ],
   "source": [
    "X = modeling_data[['User Score', 'Number of Members']]\n",
    "y = modeling_data['Number of Anime']\n",
    "\n",
    "# Split the data into training and testing sets (90% train, 10% test)\n",
    "X_train, X_test, y_train, y_test = train_test_split(X, y, test_size=0.1, random_state=42)\n",
    "\n",
    "# Train model and fit data\n",
    "model = LinearRegression()\n",
    "model.fit(X_train, y_train)\n",
    "y_pred = model.predict(X_test)\n",
    "\n",
    "# Evaluation metrics\n",
    "linear_mse = mean_squared_error(y_test, y_pred)\n",
    "linear_r2 = r2_score(y_test, y_pred)\n",
    "\n",
    "# Print the result\n",
    "print(f\"MSE: {linear_mse:.2f}, R²: {linear_r2:.2f}\")"
   ]
  },
  {
   "cell_type": "markdown",
   "id": "2c79584b-3f2b-411b-8a6f-8f2f6a29c24a",
   "metadata": {},
   "source": [
    "- Extract the model and retrieve the parameters ($a, b, c$):"
   ]
  },
  {
   "cell_type": "code",
   "execution_count": 10,
   "id": "1dc110d6-58b9-498a-ad83-2dde088784c8",
   "metadata": {},
   "outputs": [
    {
     "name": "stdout",
     "output_type": "stream",
     "text": [
      "Coefficients:\n",
      "User Score: -2.8018743\n",
      "Number of Members: 0.0000149\n",
      "Intercept: 35.4624411\n"
     ]
    }
   ],
   "source": [
    "# Coefficients\n",
    "print(\"Coefficients:\")\n",
    "for feature, coef in zip(X.columns, model.coef_):\n",
    "    print(f\"{feature}: {coef:.7f}\")\n",
    "print(f\"Intercept: {model.intercept_:.7f}\")"
   ]
  },
  {
   "cell_type": "markdown",
   "id": "8946e4fd-e2a2-49fb-96f6-8c3ce802af2c",
   "metadata": {},
   "source": [
    "- **Comments**:\n",
    "    - Linear model to predict ```Number of Anime``` based on ```User Score``` and ```Number of Members```: $\\text{Number of Anime} = -2.0818743 \\cdot \\text{User Score} + 0.0000149 \\cdot \\text{Number of Members} + 35.4624411$, which means:\n",
    "        - When the ```User Score``` **decreases**, the ```Number of Anime``` **increases**, and vice versa $\\rightarrow$ This aligns relatively well with **previous analysis results**; however, there are still some **inconsistencies** compared to **reality**.\n",
    "        - When the ```Number of Members``` **increases**, the ```Number of Anime``` also **increases**, and vice versa -> This has **no conflict** with **reality**.\n",
    "$\\rightarrow$ The $\\text{R}^2$ score is only $\\approx 0.23$, and the **parameters** in the model cause some **inconsistencies** compared to **reality**, indicating that the **linear regression** model is **not suitable** for this problem $\\rightarrow$ Better models are needed."
   ]
  },
  {
   "cell_type": "markdown",
   "id": "86028db7-ef2c-461e-be61-ae948072ed23",
   "metadata": {},
   "source": [
    "## Random Forest Regressor\n",
    "- There are **two** important things we need to focus on with this regression method:\n",
    "    - **Hyperparameters** tuning: **Random Forest** generally works well with default settings, but **hyperparameter tuning** can optimize performance:\n",
    "        - ```n_estimators```: The number of decision trees in the random forest. Increasing ```n_estimators``` **improves** the model's performance by reducing variance, but **waste** more time and usually **stabilize** accuracy after a certain point.\n",
    "        - ```max_depth```: The maximum depth of each decision tree. Limiting the maximum depth of each decision tree will help to reduce both **overfitting** and **underfitting**.\n",
    "        - ```min_samples_split```: The minimum number of samples required to split an internal node. Higher values prevent the tree from growing too complex (reduce overfitting) and lower values allow splits even for small sample sizes, which can lead to overfitting.\n",
    "        - ```min_samples_leaf```: The minimum number of samples required to be at a leaf node. Larger values ensure leaf nodes have more samples, reducing overfitting and lower values allow smaller leaf sizes, capturing more specific patterns but increasing risk of overfitting.\n",
    "    - **Feature Importance**: Analyzing the **influence** of each **feature** on the predictive model.\n",
    "- **Split** dataset: Train: $80 \\%$, Validation: $10 \\%$, Test: $10 \\%$. "
   ]
  },
  {
   "cell_type": "code",
   "execution_count": 11,
   "id": "4ad4717c-13aa-4f01-9dc0-53d8725e8459",
   "metadata": {},
   "outputs": [],
   "source": [
    "# Split the data into training, validating and testing sets (80% train, 10% validation, 10% test)\n",
    "X_train, X_temp, y_train, y_temp = train_test_split(X, y, test_size=0.2, random_state=42) # 80% train\n",
    "X_val, X_test, y_val, y_test = train_test_split(X_temp, y_temp, test_size=0.5, random_state=42) # 10% validation, 10% test"
   ]
  },
  {
   "cell_type": "code",
   "execution_count": 12,
   "id": "61e3c7ac-5d47-4a7f-b9a2-408cdc9f5b6c",
   "metadata": {},
   "outputs": [],
   "source": [
    "# Hyperparameters to test\n",
    "hyperparameters = {\n",
    "    'n_estimators': [50, 100, 200, 500],\n",
    "    'max_depth': [None, 5, 10, 15],\n",
    "    'min_samples_split': [2, 5, 10],\n",
    "    'min_samples_leaf': [1, 2, 4, 5]\n",
    "}"
   ]
  },
  {
   "cell_type": "code",
   "execution_count": 13,
   "id": "e4eda5ba-2b98-4430-9558-ab693552f5bd",
   "metadata": {},
   "outputs": [
    {
     "name": "stdout",
     "output_type": "stream",
     "text": [
      "Best Hyperparameters: {'n_estimators': 500, 'max_depth': 5, 'min_samples_split': 2, 'min_samples_leaf': 5}\n",
      "Best Validation R²: -0.32\n"
     ]
    }
   ],
   "source": [
    "best_model = None\n",
    "best_score = float('-inf')\n",
    "best_params = {}\n",
    "\n",
    "# Hyperparameter tuning\n",
    "for n in hyperparameters['n_estimators']:\n",
    "    for depth in hyperparameters['max_depth']:\n",
    "        for split in hyperparameters['min_samples_split']:\n",
    "            for leaf in hyperparameters['min_samples_leaf']:\n",
    "                # Train a Random Forest model with the current set of hyperparameters\n",
    "                model = RandomForestRegressor(\n",
    "                    n_estimators=n,\n",
    "                    max_depth=depth,\n",
    "                    min_samples_split=split,\n",
    "                    min_samples_leaf=leaf,\n",
    "                    random_state=42\n",
    "                )\n",
    "                model.fit(X_train, y_train)\n",
    "                \n",
    "                # Validate the model\n",
    "                y_val_pred = model.predict(X_val)\n",
    "                score = r2_score(y_val, y_val_pred)  # Evaluation metric\n",
    "                \n",
    "                # Update the best model if the current one is better\n",
    "                if score > best_score:\n",
    "                    best_model = model\n",
    "                    best_score = score\n",
    "                    best_params = {\n",
    "                        'n_estimators': n,\n",
    "                        'max_depth': depth,\n",
    "                        'min_samples_split': split,\n",
    "                        'min_samples_leaf': leaf\n",
    "                    }\n",
    "                    \n",
    "# Print result\n",
    "print(\"Best Hyperparameters:\", best_params)\n",
    "print(f\"Best Validation R²: {best_score:.2f}\")"
   ]
  },
  {
   "cell_type": "code",
   "execution_count": 14,
   "id": "1156a3d0-f5b8-4957-b1f1-a45d11d14aea",
   "metadata": {},
   "outputs": [
    {
     "name": "stdout",
     "output_type": "stream",
     "text": [
      "Final Test Evaluation\n",
      "MSE: 71.35\n",
      "R²: 0.35\n"
     ]
    }
   ],
   "source": [
    "# Evaluate the best model on the test set\n",
    "y_test_pred = best_model.predict(X_test)\n",
    "\n",
    "# Evaluation metrics\n",
    "rfr_mse = mean_squared_error(y_test, y_test_pred)\n",
    "rfr_r2 = r2_score(y_test, y_test_pred)\n",
    "\n",
    "# Print the result\n",
    "print(\"Final Test Evaluation\")\n",
    "print(f\"MSE: {rfr_mse:.2f}\")\n",
    "print(f\"R²: {rfr_r2:.2f}\")"
   ]
  },
  {
   "cell_type": "markdown",
   "id": "c232e5db-7525-4795-8c8c-f027af542acf",
   "metadata": {},
   "source": [
    "- Visualize the **importance** of each feature in Random Forest Regressor model:"
   ]
  },
  {
   "cell_type": "code",
   "execution_count": 15,
   "id": "01a65ce4-6e1a-40b3-badf-c46ab787f475",
   "metadata": {},
   "outputs": [
    {
     "data": {
      "image/png": "[encoded data removed]",
      "text/plain": [
       "<Figure size 600x600 with 1 Axes>"
      ]
     },
     "metadata": {},
     "output_type": "display_data"
    }
   ],
   "source": [
    "# Visualize the importance of features by using horizontal bar chart\n",
    "feature_importances = model.feature_importances_\n",
    "features = X_train.columns\n",
    "\n",
    "# Sorting decreasingly\n",
    "importance_df = pd.DataFrame({'Feature': features, 'Importance': feature_importances})\n",
    "importance_df = importance_df.sort_values(by='Importance', ascending=False)  # Sort by importance\n",
    "\n",
    "# Visualization\n",
    "plt.figure(figsize=(6, 6))\n",
    "plt.bar(importance_df['Feature'], importance_df['Importance'], color='teal')  # Use plt.bar for vertical bars\n",
    "plt.title(\"Importance of Features - Random Forest Regressor\")\n",
    "plt.xlabel(\"Features\")\n",
    "plt.ylabel(\"Importance Score\")\n",
    "\n",
    "plt.tight_layout()\n",
    "plt.show()"
   ]
  },
  {
   "cell_type": "markdown",
   "id": "2295393c-7d54-4388-ae28-a1a90007359e",
   "metadata": {},
   "source": [
    "- **Comments**:\n",
    "    - The $\\text{R}^2$ score has **improved significantly** compared to previous models; however, it is still **not high enough** to consider this a **good model**.\n",
    "    - The $\\text{R}^2$ score of the **validation** dataset shows a **significant discrepancy** ($<0$) compared to the $\\text{R}^2$ score of the **test** dataset, indicating a **lack of samples** (only $10$ samples for each validation and test dataset).\n",
    "    - For this Random Forest model, the **importance** of the two features, ```User Score``` and ```Number of Members```, is quite **similar** ($\\approx 0.5$).\n",
    "\n",
    "$\\rightarrow$ Although there has been some **improvements**, this is still **not** a **sufficiently robust** model to address the initial problem effectively."
   ]
  },
  {
   "cell_type": "markdown",
   "id": "54a94b1d",
   "metadata": {},
   "source": [
    "## Polynomial Regression"
   ]
  },
  {
   "cell_type": "markdown",
   "id": "ad889983",
   "metadata": {},
   "source": [
    "- **Split** dataset: Train: $80 \\%$, Validation: $10 \\%$, Test: $10 \\%$.\n",
    "- **Hyperparameter(s)**: The polynomial degree."
   ]
  },
  {
   "cell_type": "code",
   "execution_count": 16,
   "id": "116fde17-f268-4d02-9c84-25cc548fa330",
   "metadata": {},
   "outputs": [
    {
     "name": "stdout",
     "output_type": "stream",
     "text": [
      "Best Polynomial Degree: 8\n",
      "Best Validation R²: -0.19\n"
     ]
    }
   ],
   "source": [
    "# Hyperparameter tuning for Polynomial Regression\n",
    "best_degree = None\n",
    "best_model = None\n",
    "best_score = float('-inf')\n",
    "results = []  # To store results for each degree\n",
    "\n",
    "# Test polynomial degrees from 2 to 10 \n",
    "for degree in range(2, 10):\n",
    "    # Create polynomial features\n",
    "    poly = PolynomialFeatures(degree=degree)\n",
    "    X_train_poly = poly.fit_transform(X_train)\n",
    "    X_val_poly = poly.transform(X_val)\n",
    "\n",
    "    # Train a linear regression model\n",
    "    model = LinearRegression()\n",
    "    model.fit(X_train_poly, y_train)\n",
    "\n",
    "    # Validate the model\n",
    "    y_val_pred = model.predict(X_val_poly)\n",
    "    score = r2_score(y_val, y_val_pred)  # R² on validation set\n",
    "    \n",
    "    # Store results\n",
    "    results.append({'Degree': degree, 'Validation R²': score})\n",
    "    \n",
    "    # Update the best model if the current one is better\n",
    "    if score > best_score:\n",
    "        best_degree = degree\n",
    "        best_model = model\n",
    "        best_score = score\n",
    "\n",
    "# Print the best degree and validation score\n",
    "print(\"Best Polynomial Degree:\", best_degree)\n",
    "print(f\"Best Validation R²: {best_score:.2f}\")"
   ]
  },
  {
   "cell_type": "code",
   "execution_count": 17,
   "id": "46ec7cdc-f10f-48dd-837e-c9c5d33a8191",
   "metadata": {},
   "outputs": [
    {
     "name": "stdout",
     "output_type": "stream",
     "text": [
      "Final Test Evaluation\n",
      "R² on test set: 0.41\n"
     ]
    }
   ],
   "source": [
    "# Evaluate the best model on the test set\n",
    "poly = PolynomialFeatures(degree=best_degree)\n",
    "X_train_poly = poly.fit_transform(X_train)\n",
    "X_test_poly = poly.transform(X_test)\n",
    "y_test_pred = best_model.predict(X_test_poly)\n",
    "\n",
    "# Test set evaluation metrics\n",
    "poly_r2 = r2_score(y_test, y_test_pred)\n",
    "print(\"Final Test Evaluation\")\n",
    "print(f\"R² on test set: {poly_r2:.2f}\")"
   ]
  },
  {
   "cell_type": "code",
   "execution_count": 18,
   "id": "f6b67e92-12a8-4686-88f5-d9a07e6ab914",
   "metadata": {},
   "outputs": [
    {
     "data": {
      "image/png": "[encoded data removed]",
      "text/plain": [
       "<Figure size 800x600 with 1 Axes>"
      ]
     },
     "metadata": {},
     "output_type": "display_data"
    }
   ],
   "source": [
    "# Visualize the validation results\n",
    "results_df = pd.DataFrame(results)\n",
    "plt.figure(figsize=(8, 6))\n",
    "plt.plot(results_df['Degree'], results_df['Validation R²'], marker='o', color='teal')\n",
    "plt.title(\"Validation R² for Different Polynomial Degrees\")\n",
    "plt.xlabel(\"Polynomial Degree\")\n",
    "plt.ylabel(\"Validation R²\")\n",
    "plt.grid(True)\n",
    "plt.tight_layout()\n",
    "plt.show()"
   ]
  },
  {
   "cell_type": "markdown",
   "id": "69826c70-03cb-4347-bf9f-91de14687a0f",
   "metadata": {},
   "source": [
    "- **Comments**:\n",
    "    - The $\\text{R}^2$ score for the Polynomial Regression model with degree 8 has improved compared to the linear models; however, it is still not satisfactory as a reliable predictor.\n",
    "    - The $\\text{R}^2$ score on the validation dataset ($-0.19$) is significant lower than that on the test dataset ($0.41$), which indicates the model is not very reliable and lacks sufficient samples.\n",
    "    - While the Polynomial Regression model is more capable of capturing non-linear relationships, its predictive power remains limited with the current feature set.\n",
    "\n",
    "$\\rightarrow$ Overall, this model has shown some improvements compared to simpler models, but it is still not robust enough to effectively address the problem."
   ]
  },
  {
   "cell_type": "markdown",
   "id": "a0af50f9",
   "metadata": {},
   "source": [
    "## Gradient Boosting Regressor"
   ]
  },
  {
   "cell_type": "markdown",
   "id": "a969dd2a-2bb7-4c28-b238-5320797f3dfe",
   "metadata": {},
   "source": [
    "- **Split** dataset: Train: $80 \\%$, Validation: $10 \\%$, Test: $10 \\%$.\n",
    "- **Hyperparameter(s)**: \n",
    "    - `n_estimators`:\n",
    "        - Represents the number of trees in the ensemble.\n",
    "        - A higher value allows the model to learn more complex patterns but increases computational cost.\n",
    "        - Tested values: `[100, 200, 500]`.\n",
    "    - `learning_rate`:\n",
    "        - Controls the step size at which the model learns. Smaller values make the model learn more slowly but can yield better generalization.\n",
    "        - Trade-off: A smaller learning rate often requires a larger number of trees to converge.\n",
    "        - Tested values: `[0.01, 0.1, 0.2]`.\n",
    "    - `max_depth`:\n",
    "        - Specifies the maximum depth of each tree.\n",
    "        - Deeper trees can model more complex patterns but are more prone to overfitting.\n",
    "        - Tested values: `[3, 5, 10]`.\n",
    "    - `min_samples_split`:\n",
    "        - Defines the minimum number of samples required to split an internal node.\n",
    "        - Larger values make the model more conservative by requiring more samples to split nodes.\n",
    "        - Tested values: `[2, 5, 10]`."
   ]
  },
  {
   "cell_type": "code",
   "execution_count": 19,
   "id": "f260c018-ecb9-40df-a41b-b91d414bfca0",
   "metadata": {},
   "outputs": [],
   "source": [
    "# Define the model\n",
    "gbr = GradientBoostingRegressor(random_state=42)\n",
    "\n",
    "# Define hyperparameters to tune\n",
    "param_grid = {\n",
    "    'n_estimators': [100, 200, 500],\n",
    "    'learning_rate': [0.01, 0.1, 0.2],\n",
    "    'max_depth': [3, 5, 10],\n",
    "    'min_samples_split': [2, 5, 10],\n",
    "}"
   ]
  },
  {
   "cell_type": "code",
   "execution_count": 20,
   "id": "3651d85a-fb5f-4a68-86a1-35bea0e7a5fa",
   "metadata": {},
   "outputs": [
    {
     "name": "stdout",
     "output_type": "stream",
     "text": [
      "Fitting 3 folds for each of 81 candidates, totalling 243 fits\n",
      "Best Gradient Boosting Model R² on test set: -0.160\n"
     ]
    }
   ],
   "source": [
    "# Grid search for the best hyperparameters\n",
    "grid_search = GridSearchCV(estimator=gbr, param_grid=param_grid, cv=3, scoring='r2', verbose=1)\n",
    "grid_search.fit(X_train, y_train)\n",
    "\n",
    "# Get the best model and evaluate\n",
    "best_gbr = grid_search.best_estimator_\n",
    "y_val_pred = best_gbr.predict(X_val)\n",
    "r2_val = r2_score(y_val, y_val_pred)\n",
    "\n",
    "print(f\"Best Gradient Boosting Model R² on test set: {r2_val:.3f}\")"
   ]
  },
  {
   "cell_type": "code",
   "execution_count": 21,
   "id": "b60d79f7-d7da-4755-8cbf-b65874a91322",
   "metadata": {},
   "outputs": [
    {
     "name": "stdout",
     "output_type": "stream",
     "text": [
      "Final Test Evaluation for Gradient Boosting Regressor\n",
      "MSE: 74.81\n",
      "R²: 0.32\n"
     ]
    }
   ],
   "source": [
    "# Evaluate the best Gradient Boosting model on the test set\n",
    "y_test_pred = best_gbr.predict(X_test)\n",
    "\n",
    "gbr_mse = mean_squared_error(y_test, y_test_pred)\n",
    "gbr_r2 = r2_score(y_test, y_test_pred)\n",
    "\n",
    "# Print the results\n",
    "print(\"Final Test Evaluation for Gradient Boosting Regressor\")\n",
    "print(f\"MSE: {gbr_mse:.2f}\")\n",
    "print(f\"R²: {gbr_r2:.2f}\")"
   ]
  },
  {
   "cell_type": "markdown",
   "id": "32a4f795-5303-4585-ac18-8326cc7f2e44",
   "metadata": {},
   "source": [
    "- Visualize the **importance** of each feature in Gradient Boosting Regressor model:"
   ]
  },
  {
   "cell_type": "code",
   "execution_count": 22,
   "id": "473527f1-a253-4318-860b-41d9833cccfe",
   "metadata": {},
   "outputs": [
    {
     "data": {
      "image/png": "[encoded data removed]",
      "text/plain": [
       "<Figure size 800x600 with 1 Axes>"
      ]
     },
     "metadata": {},
     "output_type": "display_data"
    }
   ],
   "source": [
    "# Extract feature importances from the Gradient Boosting model\n",
    "feature_importances = best_gbr.feature_importances_\n",
    "features = X_train.columns \n",
    "\n",
    "# Create a DataFrame to store and sort feature importances\n",
    "importance_df = pd.DataFrame({'Feature': features, 'Importance': feature_importances})\n",
    "importance_df = importance_df.sort_values(by='Importance', ascending=False) # Sort by importance\n",
    "\n",
    "# Visualization: Vertical bar chart\n",
    "plt.figure(figsize=(8, 6))\n",
    "plt.bar(importance_df['Feature'], importance_df['Importance'], color='teal')\n",
    "plt.title(\"Importance of Features - Gradient Boosting Regressor\", fontsize=16)\n",
    "plt.xlabel(\"Features\", fontsize=14)\n",
    "plt.ylabel(\"Importance Score\", fontsize=14)\n",
    "plt.xticks(fontsize=12)\n",
    "plt.yticks(fontsize=12)\n",
    "\n",
    "plt.tight_layout()\n",
    "plt.show()"
   ]
  },
  {
   "cell_type": "markdown",
   "id": "2d824bc3-0f1b-4dba-aed6-c1562c5f4ed1",
   "metadata": {},
   "source": [
    "- **Comments**:\n",
    "    - The $\\text{R}^2$ score of the **Gradient Boosting Regressor** model is **slightly better** than simpler models such as **Polynomial Regression** and **Linear Regression**, achieving a value of $0.31$ on the test set.\n",
    "    - The $\\text{R}^2$ score indicates that the model can explain approximately **31% of the variance** in the target variable, which is an **incremental improvement** but still below the acceptable threshold for a strong predictive model.\n",
    "    - The **Mean Squared Error (MSE)** of $45.45$ suggests that there is still a significant difference between the predicted and actual values, leaving room for improvement.\n",
    "    - Hyperparameter tuning with 81 combinations showed that the best model configuration still struggles to capture the complexities of the dataset.\n",
    "\n",
    "$\\rightarrow$ While Gradient Boosting Regressor has demonstrated **better performance** compared to earlier models, it is **not sufficient** to fully solve the problem."
   ]
  },
  {
   "cell_type": "markdown",
   "id": "6b3a5fb5-4ca0-4dd3-9a9f-b24447c5dfd3",
   "metadata": {},
   "source": [
    "## Conclusions"
   ]
  },
  {
   "cell_type": "markdown",
   "id": "71e6d033-7a18-4ed5-9ca6-651458e1b053",
   "metadata": {},
   "source": [
    "- Visualize the **best result** ($\\text{MSE}$ value) from the processed models above:"
   ]
  },
  {
   "cell_type": "code",
   "execution_count": 23,
   "id": "810a21ce-c791-45ae-9a0a-f83a3f335ca1",
   "metadata": {},
   "outputs": [],
   "source": [
    "# Store R² results in a dictionary and convert it into a DataFrame\n",
    "r2_results = {\n",
    "    'Linear Regression': linear_r2,\n",
    "    'Polynomial Regression': poly_r2,\n",
    "    'Random Forest Regressor': rfr_r2,\n",
    "    'Gradient Boosting Regressor': gbr_r2\n",
    "}\n",
    "\n",
    "r2_df = pd.DataFrame(list(r2_results.items()), columns=['Model', 'R2'])"
   ]
  },
  {
   "cell_type": "code",
   "execution_count": 24,
   "id": "17b99748-de6e-41ce-ba05-1b4bf44e48b0",
   "metadata": {},
   "outputs": [
    {
     "data": {
      "image/png": "[encoded data removed]",
      "text/plain": [
       "<Figure size 1200x600 with 1 Axes>"
      ]
     },
     "metadata": {},
     "output_type": "display_data"
    }
   ],
   "source": [
    "# Visualize by using vertical bar chart\n",
    "sns.set_theme(style=\"whitegrid\")\n",
    "\n",
    "plt.figure(figsize=(12, 6))\n",
    "sns.barplot(x='Model', y='R2', data=r2_df, palette='viridis', hue='Model', dodge=False)\n",
    "plt.title(\"R² Score by Model\", fontsize=16)\n",
    "plt.xlabel(\"Model\", fontsize=14)\n",
    "plt.ylabel(\"R²\", fontsize=14)\n",
    "plt.xticks(fontsize=12)\n",
    "plt.yticks(fontsize=12)\n",
    "\n",
    "plt.tight_layout()\n",
    "plt.show()"
   ]
  },
  {
   "cell_type": "markdown",
   "id": "ef21dbcf-03f1-40ee-9587-1fbd8ee94872",
   "metadata": {},
   "source": [
    "- The **best model** is: **Polynomial Regression**.\n",
    "- However, the $\\text{R}^2$ score of all models are unimpressive ($\\leq 0.41$) and reveal **inconsistencies** in the modeling process, meaning that **none** of the models can **effectively address** the original problem.\n",
    "- Some **potential** solutions:\n",
    "    - **Collect** more data: **Increase** the number of **samples** or **features**.\n",
    "    - **Select** and **analyze** additional features: Choose more **categorical** features (**encoded** numerically) or derive **hidden features** based on the current dataset.\n",
    "    - **Apply** more **complex models**."
   ]
  }
 ],
 "metadata": {
  "kernelspec": {
   "display_name": "Python 3 (ipykernel)",
   "language": "python",
   "name": "python3"
  },
  "language_info": {
   "codemirror_mode": {
    "name": "ipython",
    "version": 3
   },
   "file_extension": ".py",
   "mimetype": "text/x-python",
   "name": "python",
   "nbconvert_exporter": "python",
   "pygments_lexer": "ipython3",
   "version": "3.12.7"
  }
 },
 "nbformat": 4,
 "nbformat_minor": 5
}
